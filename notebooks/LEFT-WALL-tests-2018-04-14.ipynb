{
 "cells": [
  {
   "cell_type": "markdown",
   "metadata": {},
   "source": [
    "# LEFT-WALL tests `2018-04-14`\n",
    "Results stared via [http://88.99.210.144/data/clustering_2018/AGI-2018/Left-Wall-Tests.html](http://88.99.210.144/data/clustering_2018/AGI-2018/Left-Wall-Tests.html)  \n",
    "A static html copy of this notebook shared via  \n",
    "[http://88.99.210.144/data/clustering_2018/AGI-2018/Left-Wall-Tests/](http://88.99.210.144/data/clustering_2018/AGI-2018/Left-Wall-Tests/)"
   ]
  },
  {
   "cell_type": "markdown",
   "metadata": {},
   "source": [
    "## Introduction"
   ]
  },
  {
   "cell_type": "code",
   "execution_count": 1,
   "metadata": {},
   "outputs": [
    {
     "name": "stdout",
     "output_type": "stream",
     "text": [
      "2018-04-17 16:50:50 UTC /home/obaskov/language-learning\n"
     ]
    }
   ],
   "source": [
    "import os, sys, time\n",
    "import numpy as np\n",
    "import pandas as pd\n",
    "import matplotlib.pyplot as plt\n",
    "%matplotlib inline\n",
    "from IPython.display import display\n",
    "module_path = os.path.abspath(os.path.join('..'))\n",
    "if module_path not in sys.path: sys.path.append(module_path)\n",
    "from src.utl.utl import UTC\n",
    "from src.utl.read_files import check_dir\n",
    "print(UTC(), module_path)\n",
    "prefix = '' # unused option\n",
    "tmpath = module_path + '/tmp/'\n",
    "check_dir(tmpath, True, 'none')\n",
    "from src.grammar_learner.poc03 import learn_grammar"
   ]
  },
  {
   "cell_type": "markdown",
   "metadata": {},
   "source": [
    "## Settings, parameters, data"
   ]
  },
  {
   "cell_type": "code",
   "execution_count": 2,
   "metadata": {},
   "outputs": [],
   "source": [
    "# Settings given below:\n",
    "# Directory to read parse files (1 to many input files)\n",
    "# - input_dir = module_path + '/data/POC_English_NoAmb/...'\n",
    "# - input_dir = module_path + '/data/POC_Turtle/...'\n",
    "# Paths to store learned categories, learned dictionary Link Grammar file\n",
    "# batch_dir = module_path + '/output/Left-Wall-2018-04-12/...'\n",
    "# prj_dir = batch_dir + 'MST_fixed_manually/disjuncts-DRK-disjuncts/'\n",
    "# if check_dir(prj_dir, create=True, verbose='max'):\n",
    "#    cat_path = prj_dir  # Path to store learned categories\n",
    "#    dict_path = prj_dir # Path to store learned dictionary Link Grammar file\n",
    "\n",
    "# Settings:\n",
    "parse_mode = 'given'            # 'given' (default) / 'explosive' (next)\n",
    "#left_wall = 'LEFT-WALL'         # '','none' - don't use / \n",
    "                                # 'string' - replace ###LEFT-WALL### with the string\n",
    "period = True                   # use period in links learning: True/False\n",
    "#-learn_mode = 'connectors_only'  # ~ context = 1, window = 'mst', weighting = 'ppmi'\n",
    "#-learn_mode = 'lexical_entries'  # ~ context = 2, group = True, \n",
    "# learn_mode decomposed:\n",
    "# context = 1                     # 1: connectors / 0: 'words' /\n",
    "context = 2                     # 2,3...: disjuncts with limited number of links\n",
    "window = 'mst'                  # 'mst' / reserved options for «explosive» parsing\n",
    "weighting = 'ppmi'              # 'ppmi' / future options\n",
    "group = True                    # group items after link parsing, sum counts \n",
    "\n",
    "#+distance = False?\n",
    "    \n",
    "word_space = 'vectors'          # 'vectors' / 'discrete' - no dimensionality reduction\n",
    "dim_max = 100                   # max vector space dimensionality\n",
    "sv_min = 0.1                    # minimal singular value (fraction of the max value)\n",
    "dim_reduction = 'svm'           # 'svm' / 'none' (discrete word_space, group)\n",
    "\n",
    "clustering = 'kmeans'           # 'kmeans' / 'group'~'identical_entries' / future options\n",
    "cluster_range = (2,48,1)        # min, max, step\n",
    "cluster_criteria = 'silhouette'\n",
    "cluster_level = 0.9             # level = 0, 1, 0.-0.99..: 0 - max number of clusters\n",
    "\n",
    "generalization = 'off'          # 'off' / future options: 'cosine', ...\n",
    "merge = 0.8                     # merge clusters with similarity > this 'merge' criteria\n",
    "aggregate = 0.2                 # agglomerate clusters with similarity > this criteria\n",
    "\n",
    "grammar_rules = 2               # 1: 'connectors' / 2 - 'disjuncts' / 0 - 'words' (TODO?)\n",
    "\n",
    "verbose='mid'   # display intermediate results: 'none', 'min', 'mid', 'max'"
   ]
  },
  {
   "cell_type": "markdown",
   "metadata": {},
   "source": [
    "# POC-Turtle corpus, \"Disjuncts-DRK-Disjuncts\""
   ]
  },
  {
   "cell_type": "code",
   "execution_count": 3,
   "metadata": {},
   "outputs": [],
   "source": [
    "batch_dir = module_path + '/output/Left-Wall-2018-04-14/POC-Turtle/'"
   ]
  },
  {
   "cell_type": "markdown",
   "metadata": {},
   "source": [
    "## MST fixed manually, LEFT-WALL"
   ]
  },
  {
   "cell_type": "code",
   "execution_count": 4,
   "metadata": {},
   "outputs": [
    {
     "name": "stdout",
     "output_type": "stream",
     "text": [
      "Directory /home/obaskov/language-learning/output/Left-Wall-2018-04-14/POC-Turtle/MST_fixed_manually/disjuncts-DRK-disjuncts/Left-Wall/ exists.\n",
      "15 unique words and 29 unique links form 44 unique word-link pairs from 60 parsed items\n"
     ]
    },
    {
     "data": {
      "image/png": "[encoded data removed]",
      "text/plain": [
       "<matplotlib.figure.Figure at 0x7f65d9acc240>"
      ]
     },
     "metadata": {},
     "output_type": "display_data"
    },
    {
     "name": "stdout",
     "output_type": "stream",
     "text": [
      "Vector space dimensionality = 8\n",
      "Singular value (8) = 3.7\n",
      "Max singular value (1) = 5.6\n",
      "Singular value (8) = 3.7385588793217883e-10\n",
      "Silhouette index in a range of cluster numbers\n"
     ]
    },
    {
     "data": {
      "image/png": "[encoded data removed]",
      "text/plain": [
       "<matplotlib.figure.Figure at 0x7f6598982400>"
      ]
     },
     "metadata": {},
     "output_type": "display_data"
    },
    {
     "name": "stdout",
     "output_type": "stream",
     "text": [
      "Optimal number of clusters: 4\n",
      "Cluster words in vector space, axes 1 and 3\n"
     ]
    },
    {
     "data": {
      "text/html": [
       "<table><tr><td>Parent</td><td>Category</td><td>Quality</td><td>Words</td><td>Relevance</td></tr><tr><td>C00</td><td>C01</td><td>0.0</td><td>['.', 'LEFT-WALL', 'has', 'isa']</td><td>[0, 0, 0, 0]</td></tr><tr><td>C00</td><td>C02</td><td>0.0</td><td>['bird', 'extremity', 'fish']</td><td>[0, 0, 0]</td></tr><tr><td>C00</td><td>C03</td><td>0.0</td><td>['feather', 'fin', 'scale', 'wing']</td><td>[0, 0, 0, 0]</td></tr><tr><td>C00</td><td>C04</td><td>0.0</td><td>['eagle', 'herring', 'parrot', 'tuna']</td><td>[0, 0, 0, 0]</td></tr></table>"
      ],
      "text/plain": [
       "<IPython.core.display.HTML object>"
      ]
     },
     "metadata": {},
     "output_type": "display_data"
    },
    {
     "name": "stdout",
     "output_type": "stream",
     "text": [
      "\n",
      "Category list - 4 lines, saved to /home/obaskov/language-learning/output/Left-Wall-2018-04-14/POC-Turtle/MST_fixed_manually/disjuncts-DRK-disjuncts/Left-Wall/categories.txt\n"
     ]
    },
    {
     "data": {
      "text/html": [
       "<table><tr><td>Cluster</td><td>Germs</td><td>L</td><td>R</td><td>Disjuncts</td></tr><tr><td>C01</td><td>['.', 'LEFT-WALL', 'has', 'isa']</td><td>[]</td><td>[]</td><td>['C03C01-', 'C02C01-', 'C01C04+', 'C01C03+', 'C04C01- & C01C03+', 'C03C01- & C01C03+', 'C04C01- & C01C02+', 'C03C01- & C01C02+']</td></tr><tr><td>C02</td><td>['bird', 'extremity', 'fish']</td><td>[]</td><td>[]</td><td>['C01C02- & C02C01+', 'C01C02- & C02C01+', 'C01C02- & C02C01+']</td></tr><tr><td>C03</td><td>['feather', 'fin', 'scale', 'wing']</td><td>[]</td><td>[]</td><td>['C01C03- & C03C01+', 'C01C03- & C03C01+', 'C01C03- & C03C01+', 'C01C03- & C03C01+']</td></tr><tr><td>C04</td><td>['eagle', 'herring', 'parrot', 'tuna']</td><td>[]</td><td>[]</td><td>['C01C04- & C04C01+', 'C01C04- & C04C01+', 'C01C04- & C04C01+', 'C01C04- & C04C01+']</td></tr></table>"
      ],
      "text/plain": [
       "<IPython.core.display.HTML object>"
      ]
     },
     "metadata": {},
     "output_type": "display_data"
    },
    {
     "data": {
      "image/png": "[encoded data removed]",
      "text/plain": [
       "<matplotlib.figure.Figure at 0x7f6598129d30>"
      ]
     },
     "metadata": {},
     "output_type": "display_data"
    }
   ],
   "source": [
    "left_wall = 'LEFT-WALL'\n",
    "context = 2                     # 2+: 'dusjuncts' / 1: connectors\n",
    "word_space = 'vectors'          # 'vectors' / 'discrete' - no dimensionality reduction\n",
    "dim_max = 100                   # max vector space dimensionality\n",
    "sv_min = 0.1                    # minimal singular value (fraction of the max value)\n",
    "dim_reduction = 'svm'           # 'svm' / 'none' (discrete word_space, group)\n",
    "clustering = 'kmeans'           #\n",
    "grammar_rules = 2               # 1: connectors / 2+: 'dusjuncts'\n",
    "verbose = 'mid'\n",
    "\n",
    "input_dir = module_path + '/data/POC_Turtle/MST_fixed_manually/'\n",
    "# Paths to store learned categories, learned dictionary Link Grammar file\n",
    "prj_dir = batch_dir + 'MST_fixed_manually/disjuncts-DRK-disjuncts/Left-Wall/'\n",
    "if check_dir(prj_dir, create=True, verbose='max'):\n",
    "    cat_path = prj_dir  # Path to store learned categories\n",
    "    dict_path = prj_dir # Path to store learned dictionary Link Grammar file\n",
    "\n",
    "lg_rules_str = learn_grammar(input_dir, cat_path, dict_path, tmpath, verbose, \\\n",
    "    parse_mode, left_wall, period, context, window, weighting, group, \\\n",
    "    word_space, dim_max, sv_min, dim_reduction, \\\n",
    "    clustering, cluster_range, cluster_criteria, cluster_level,\n",
    "    generalization, merge, aggregate, grammar_rules)"
   ]
  },
  {
   "cell_type": "markdown",
   "metadata": {},
   "source": [
    "## MST fixed manually, no LEFT-WALL"
   ]
  },
  {
   "cell_type": "code",
   "execution_count": 5,
   "metadata": {},
   "outputs": [
    {
     "name": "stdout",
     "output_type": "stream",
     "text": [
      "Directory /home/obaskov/language-learning/output/Left-Wall-2018-04-14/POC-Turtle/MST_fixed_fixed_manually/disjuncts-DRK-disjuncts/no_Left-Wall/ exists.\n",
      "14 unique words and 23 unique links form 38 unique word-link pairs from 48 parsed items\n"
     ]
    },
    {
     "data": {
      "image/png": "[encoded data removed]",
      "text/plain": [
       "<matplotlib.figure.Figure at 0x7f65980ca358>"
      ]
     },
     "metadata": {},
     "output_type": "display_data"
    },
    {
     "name": "stdout",
     "output_type": "stream",
     "text": [
      "Vector space dimensionality = 7\n",
      "Singular value (7) = 3.4\n",
      "Max singular value (1) = 5.1\n",
      "Singular value (7) = 1.1697624286823515e-09\n",
      "Silhouette index in a range of cluster numbers\n"
     ]
    },
    {
     "data": {
      "image/png": "[encoded data removed]",
      "text/plain": [
       "<matplotlib.figure.Figure at 0x7f6598080c18>"
      ]
     },
     "metadata": {},
     "output_type": "display_data"
    },
    {
     "name": "stdout",
     "output_type": "stream",
     "text": [
      "Optimal number of clusters: 5\n",
      "Cluster words in vector space, axes 1 and 3\n"
     ]
    },
    {
     "data": {
      "text/html": [
       "<table><tr><td>Parent</td><td>Category</td><td>Quality</td><td>Words</td><td>Relevance</td></tr><tr><td>C00</td><td>C01</td><td>0.0</td><td>['isa']</td><td>[0]</td></tr><tr><td>C00</td><td>C02</td><td>0.0</td><td>['.', 'has']</td><td>[0, 0]</td></tr><tr><td>C00</td><td>C03</td><td>0.0</td><td>['bird', 'extremity', 'fish']</td><td>[0, 0, 0]</td></tr><tr><td>C00</td><td>C04</td><td>0.0</td><td>['feather', 'fin', 'scale', 'wing']</td><td>[0, 0, 0, 0]</td></tr><tr><td>C00</td><td>C05</td><td>0.0</td><td>['eagle', 'herring', 'parrot', 'tuna']</td><td>[0, 0, 0, 0]</td></tr></table>"
      ],
      "text/plain": [
       "<IPython.core.display.HTML object>"
      ]
     },
     "metadata": {},
     "output_type": "display_data"
    },
    {
     "name": "stdout",
     "output_type": "stream",
     "text": [
      "\n",
      "Category list - 5 lines, saved to /home/obaskov/language-learning/output/Left-Wall-2018-04-14/POC-Turtle/MST_fixed_fixed_manually/disjuncts-DRK-disjuncts/no_Left-Wall/categories.txt\n"
     ]
    },
    {
     "data": {
      "text/html": [
       "<table><tr><td>Cluster</td><td>Germs</td><td>L</td><td>R</td><td>Disjuncts</td></tr><tr><td>C01</td><td>['isa']</td><td>[]</td><td>[]</td><td>['C04C01- & C01C03+', 'C05C01- & C01C03+']</td></tr><tr><td>C02</td><td>['.', 'has']</td><td>[]</td><td>[]</td><td>['C03C02-', 'C04C02-', 'C05C02- & C02C04+', 'C04C02- & C02C04+']</td></tr><tr><td>C03</td><td>['bird', 'extremity', 'fish']</td><td>[]</td><td>[]</td><td>['C01C03- & C03C02+', 'C01C03- & C03C02+', 'C01C03- & C03C02+']</td></tr><tr><td>C04</td><td>['feather', 'fin', 'scale', 'wing']</td><td>[]</td><td>[]</td><td>['C02C04- & C04C02+', 'C02C04- & C04C02+', 'C04C02+', 'C04C01+', 'C02C04- & C04C02+', 'C02C04- & C04C02+', 'C04C02+', 'C04C01+']</td></tr><tr><td>C05</td><td>['eagle', 'herring', 'parrot', 'tuna']</td><td>[]</td><td>[]</td><td>['C05C02+', 'C05C01+', 'C05C02+', 'C05C01+', 'C05C02+', 'C05C01+', 'C05C02+', 'C05C01+']</td></tr></table>"
      ],
      "text/plain": [
       "<IPython.core.display.HTML object>"
      ]
     },
     "metadata": {},
     "output_type": "display_data"
    },
    {
     "data": {
      "image/png": "[encoded data removed]",
      "text/plain": [
       "<matplotlib.figure.Figure at 0x7f6597fc76d8>"
      ]
     },
     "metadata": {},
     "output_type": "display_data"
    }
   ],
   "source": [
    "left_wall = ''\n",
    "prj_dir = batch_dir + 'MST_fixed_fixed_manually/disjuncts-DRK-disjuncts/no_Left-Wall/'\n",
    "if check_dir(prj_dir, create=True, verbose='max'):\n",
    "    cat_path = prj_dir  # Path to store learned categories\n",
    "    dict_path = prj_dir # Path to store learned dictionary Link Grammar file\n",
    "\n",
    "lg_rules_str = learn_grammar(input_dir, cat_path, dict_path, tmpath, verbose, \\\n",
    "    parse_mode, left_wall, period, context, window, weighting, group, \\\n",
    "    word_space, dim_max, sv_min, dim_reduction, \\\n",
    "    clustering, cluster_range, cluster_criteria, cluster_level,\n",
    "    generalization, merge, aggregate, grammar_rules)"
   ]
  },
  {
   "cell_type": "markdown",
   "metadata": {},
   "source": [
    "## R=6_Weight=6:R, no LEFT-WALL (OK)"
   ]
  },
  {
   "cell_type": "code",
   "execution_count": 6,
   "metadata": {},
   "outputs": [
    {
     "name": "stdout",
     "output_type": "stream",
     "text": [
      "Directory /home/obaskov/language-learning/output/Left-Wall-2018-04-14/POC-Turtle/R=6_Weight=6:R/disjuncts-DRK-disjuncts/no_Left-Wall/ exists.\n",
      "14 unique words and 25 unique links form 38 unique word-link pairs from 48 parsed items\n"
     ]
    },
    {
     "data": {
      "image/png": "[encoded data removed]",
      "text/plain": [
       "<matplotlib.figure.Figure at 0x7f6597f2f6d8>"
      ]
     },
     "metadata": {},
     "output_type": "display_data"
    },
    {
     "name": "stdout",
     "output_type": "stream",
     "text": [
      "Vector space dimensionality = 10\n",
      "Singular value (10) = 1.8\n",
      "Max singular value (1) = 5.1\n",
      "All singular values within relevance interval - more than 0.1 of max singular value\n",
      "Silhouette index in a range of cluster numbers\n"
     ]
    },
    {
     "data": {
      "image/png": "[encoded data removed]",
      "text/plain": [
       "<matplotlib.figure.Figure at 0x7f6597eaa7b8>"
      ]
     },
     "metadata": {},
     "output_type": "display_data"
    },
    {
     "name": "stdout",
     "output_type": "stream",
     "text": [
      "Optimal number of clusters: 5\n",
      "Cluster words in vector space, axes 1 and 3\n"
     ]
    },
    {
     "data": {
      "text/html": [
       "<table><tr><td>Parent</td><td>Category</td><td>Quality</td><td>Words</td><td>Relevance</td></tr><tr><td>C00</td><td>C01</td><td>0.0</td><td>['scale']</td><td>[0]</td></tr><tr><td>C00</td><td>C02</td><td>0.0</td><td>['bird', 'extremity', 'fish']</td><td>[0, 0, 0]</td></tr><tr><td>C00</td><td>C03</td><td>0.0</td><td>['.', 'feather', 'fin', 'has', 'wing']</td><td>[0, 0, 0, 0, 0]</td></tr><tr><td>C00</td><td>C04</td><td>0.0</td><td>['eagle', 'herring', 'parrot', 'tuna']</td><td>[0, 0, 0, 0]</td></tr><tr><td>C00</td><td>C05</td><td>0.0</td><td>['isa']</td><td>[0]</td></tr></table>"
      ],
      "text/plain": [
       "<IPython.core.display.HTML object>"
      ]
     },
     "metadata": {},
     "output_type": "display_data"
    },
    {
     "name": "stdout",
     "output_type": "stream",
     "text": [
      "\n",
      "Category list - 5 lines, saved to /home/obaskov/language-learning/output/Left-Wall-2018-04-14/POC-Turtle/R=6_Weight=6:R/disjuncts-DRK-disjuncts/no_Left-Wall/categories.txt\n"
     ]
    },
    {
     "data": {
      "text/html": [
       "<table><tr><td>Cluster</td><td>Germs</td><td>L</td><td>R</td><td>Disjuncts</td></tr><tr><td>C01</td><td>['scale']</td><td>[]</td><td>[]</td><td>['C03C01- & C03C01- & C01C03+']</td></tr><tr><td>C02</td><td>['bird', 'extremity', 'fish']</td><td>[]</td><td>[]</td><td>['C05C02- & C02C03+', 'C05C02- & C02C03+', 'C05C02- & C02C03+']</td></tr><tr><td>C03</td><td>['.', 'feather', 'fin', 'has', 'wing']</td><td>[]</td><td>[]</td><td>['C03C03-', 'C02C03-', 'C01C03-', 'C03C03- & C03C03- & C03C03+', 'C03C03- & C03C03+', 'C03C05+', 'C03C01+', 'C03C03+', 'C04C03- & C03C03+', 'C03C01+', 'C03C03- & C03C03+', 'C03C03+', 'C03C05+']</td></tr><tr><td>C04</td><td>['eagle', 'herring', 'parrot', 'tuna']</td><td>[]</td><td>[]</td><td>['C04C05+', 'C04C03+', 'C04C05+', 'C04C03+', 'C04C05+', 'C04C03+', 'C04C05+', 'C04C03+']</td></tr><tr><td>C05</td><td>['isa']</td><td>[]</td><td>[]</td><td>['C04C05- & C05C02+', 'C03C05- & C05C02+']</td></tr></table>"
      ],
      "text/plain": [
       "<IPython.core.display.HTML object>"
      ]
     },
     "metadata": {},
     "output_type": "display_data"
    },
    {
     "data": {
      "image/png": "[encoded data removed]",
      "text/plain": [
       "<matplotlib.figure.Figure at 0x7f6597a74ef0>"
      ]
     },
     "metadata": {},
     "output_type": "display_data"
    }
   ],
   "source": [
    "context = 2\n",
    "#left_wall = 'LEFT-WALL'\n",
    "left_wall = ''\n",
    "\n",
    "input_dir = module_path + '/data/POC_Turtle/R=6_Weight=6:R/'\n",
    "prj_dir = batch_dir + 'R=6_Weight=6:R/disjuncts-DRK-disjuncts/no_Left-Wall/'\n",
    "if check_dir(prj_dir, create=True, verbose='max'):\n",
    "    cat_path = prj_dir  # Path to store learned categories\n",
    "    dict_path = prj_dir # Path to store learned dictionary Link Grammar file\n",
    "\n",
    "lg_rules_str = learn_grammar(input_dir, cat_path, dict_path, tmpath, verbose, \\\n",
    "    parse_mode, left_wall, period, context, window, weighting, group, \\\n",
    "    word_space, dim_max, sv_min, dim_reduction, \\\n",
    "    clustering, cluster_range, cluster_criteria, cluster_level,\n",
    "    generalization, merge, aggregate, grammar_rules)"
   ]
  },
  {
   "cell_type": "markdown",
   "metadata": {},
   "source": [
    "## R=6_Weight=6:R, LEFT-WALL -- SVM error"
   ]
  },
  {
   "cell_type": "markdown",
   "metadata": {},
   "source": [
    "context = 2\n",
    "left_wall = 'LEFT-WALL'\n",
    "\n",
    "input_dir = module_path + '/data/POC_Turtle/R=6_Weight=6:R/'\n",
    "prj_dir = batch_dir + 'R=6_Weight=6:R/disjuncts-DRK-disjuncts/Left-Wall/'\n",
    "if check_dir(prj_dir, create=True, verbose='max'):\n",
    "    cat_path = prj_dir  # Path to store learned categories\n",
    "    dict_path = prj_dir # Path to store learned dictionary Link Grammar file\n",
    "\n",
    "lg_rules_str = learn_grammar(input_dir, cat_path, dict_path, tmpath, verbose, \\\n",
    "    parse_mode, left_wall, period, context, window, weighting, group, \\\n",
    "    word_space, dim_max, sv_min, dim_reduction, \\\n",
    "    clustering, cluster_range, cluster_criteria, cluster_level,\n",
    "    generalization, merge, aggregate, grammar_rules)"
   ]
  },
  {
   "cell_type": "markdown",
   "metadata": {},
   "source": [
    "# POC-Turtle corpus, batch mode"
   ]
  },
  {
   "cell_type": "code",
   "execution_count": 7,
   "metadata": {},
   "outputs": [
    {
     "name": "stdout",
     "output_type": "stream",
     "text": [
      "Input data:\n",
      "/home/obaskov/language-learning/data/POC_Turtle/LG_ANY_all_parses\n",
      "/home/obaskov/language-learning/data/POC_Turtle/MST_fixed_manually\n",
      "/home/obaskov/language-learning/data/POC_Turtle/R=6_Weight=1\n",
      "/home/obaskov/language-learning/data/POC_Turtle/R=6_Weight=6:R\n"
     ]
    }
   ],
   "source": [
    "verbose = 'mid'\n",
    "input_batch = module_path + '/data/POC_Turtle/'\n",
    "dirs = sorted([x[0] for x in os.walk(input_batch)])[1:]\n",
    "print('Input data:')\n",
    "for d in dirs: print(d)\n",
    "batch_dir = module_path + '/output/Left-Wall-2018-04-14/POC-Turtle/'"
   ]
  },
  {
   "cell_type": "markdown",
   "metadata": {},
   "source": [
    "## Clustering -- \"DRK\" -- SVM and K-Means"
   ]
  },
  {
   "cell_type": "code",
   "execution_count": 8,
   "metadata": {},
   "outputs": [
    {
     "name": "stdout",
     "output_type": "stream",
     "text": [
      "Link Grammar rules saved to:\n",
      "\n",
      "/Left-Wall-2018-04-14/POC-Turtle/LG_ANY_all_parses/connectors-DRK-connectors/LEFT-WALL/poc-english_3C_2018-04-17_0007.4.0.dict \n",
      "\n",
      "/Left-Wall-2018-04-14/POC-Turtle/LG_ANY_all_parses/connectors-DRK-connectors/no_LEFT-WALL/poc-english_4C_2018-04-17_0007.4.0.dict \n",
      "\n",
      "/Left-Wall-2018-04-14/POC-Turtle/LG_ANY_all_parses/connectors-DRK-disjuncts/LEFT-WALL/poc-english_3C_2018-04-17_0007.4.0.dict \n",
      "\n",
      "/Left-Wall-2018-04-14/POC-Turtle/LG_ANY_all_parses/connectors-DRK-disjuncts/no_LEFT-WALL/poc-english_4C_2018-04-17_0007.4.0.dict \n",
      "\n",
      "/Left-Wall-2018-04-14/POC-Turtle/MST_fixed_manually/connectors-DRK-connectors/LEFT-WALL/poc-english_3C_2018-04-17_0007.4.0.dict \n",
      "\n",
      "/Left-Wall-2018-04-14/POC-Turtle/MST_fixed_manually/connectors-DRK-connectors/no_LEFT-WALL/poc-english_3C_2018-04-17_0007.4.0.dict \n",
      "\n",
      "/Left-Wall-2018-04-14/POC-Turtle/MST_fixed_manually/connectors-DRK-disjuncts/LEFT-WALL/poc-english_3C_2018-04-17_0007.4.0.dict \n",
      "\n",
      "/Left-Wall-2018-04-14/POC-Turtle/MST_fixed_manually/connectors-DRK-disjuncts/no_LEFT-WALL/poc-english_2C_2018-04-17_0007.4.0.dict \n",
      "\n",
      "/Left-Wall-2018-04-14/POC-Turtle/R=6_Weight=1/connectors-DRK-connectors/LEFT-WALL/poc-english_4C_2018-04-17_0007.4.0.dict \n",
      "\n",
      "/Left-Wall-2018-04-14/POC-Turtle/R=6_Weight=1/connectors-DRK-connectors/no_LEFT-WALL/poc-english_4C_2018-04-17_0007.4.0.dict \n",
      "\n",
      "/Left-Wall-2018-04-14/POC-Turtle/R=6_Weight=1/connectors-DRK-disjuncts/LEFT-WALL/poc-english_5C_2018-04-17_0007.4.0.dict \n",
      "\n",
      "/Left-Wall-2018-04-14/POC-Turtle/R=6_Weight=1/connectors-DRK-disjuncts/no_LEFT-WALL/poc-english_4C_2018-04-17_0007.4.0.dict \n",
      "\n",
      "/Left-Wall-2018-04-14/POC-Turtle/R=6_Weight=6:R/connectors-DRK-connectors/LEFT-WALL/poc-english_3C_2018-04-17_0007.4.0.dict \n",
      "\n",
      "/Left-Wall-2018-04-14/POC-Turtle/R=6_Weight=6:R/connectors-DRK-connectors/no_LEFT-WALL/poc-english_4C_2018-04-17_0007.4.0.dict \n",
      "\n",
      "/Left-Wall-2018-04-14/POC-Turtle/R=6_Weight=6:R/connectors-DRK-disjuncts/LEFT-WALL/poc-english_3C_2018-04-17_0007.4.0.dict \n",
      "\n",
      "/Left-Wall-2018-04-14/POC-Turtle/R=6_Weight=6:R/connectors-DRK-disjuncts/no_LEFT-WALL/poc-english_4C_2018-04-17_0007.4.0.dict \n",
      "\n"
     ]
    }
   ],
   "source": [
    "context = 1  # connectors\n",
    "verbose = 'none'\n",
    "print('Link Grammar rules saved to:\\n')\n",
    "for d in dirs:\n",
    "    #-print('Input directory:', d)\n",
    "    for i,context in enumerate(['connectors']):\n",
    "        for j,rules in enumerate(['connectors', 'disjuncts']):\n",
    "            prj_d = batch_dir + d[d.rfind('/')+1:] + '/'+context+'-DRK-'+rules+'/'\n",
    "            for left_wall in ['LEFT-WALL', '']:\n",
    "                if left_wall == '': prj_dir = prj_d + 'no_LEFT-WALL/'\n",
    "                else: prj_dir = prj_d + left_wall + '/'\n",
    "                if check_dir(prj_dir, True, 'none'):\n",
    "                    rules = learn_grammar(d, prj_dir, prj_dir, tmpath, verbose, \\\n",
    "                        parse_mode, left_wall, period, i, window, weighting, group, \\\n",
    "                        word_space, dim_max, sv_min, dim_reduction, \\\n",
    "                        clustering, cluster_range, cluster_criteria, cluster_level,\n",
    "                        generalization, merge, aggregate, j)\n",
    "                    print(rules.split('\\n')[-1][65:], '\\n')"
   ]
  },
  {
   "cell_type": "markdown",
   "metadata": {},
   "source": [
    "## Grouping lexical entries (\"Disjuncts - ILE - disjuncts\")"
   ]
  },
  {
   "cell_type": "code",
   "execution_count": 9,
   "metadata": {},
   "outputs": [
    {
     "name": "stdout",
     "output_type": "stream",
     "text": [
      "Link Grammar rules saved to:\n",
      "\n",
      "/Left-Wall-2018-04-14/POC-Turtle/LG_ANY_all_parses/disjuncts-ILE-disjuncts/LEFT-WALL/poc-english_7C_2018-04-17_0007.4.0.dict \n",
      "\n",
      "/Left-Wall-2018-04-14/POC-Turtle/LG_ANY_all_parses/disjuncts-ILE-disjuncts/no_LEFT-WALL/poc-english_6C_2018-04-17_0007.4.0.dict \n",
      "\n",
      "/Left-Wall-2018-04-14/POC-Turtle/MST_fixed_manually/disjuncts-ILE-disjuncts/LEFT-WALL/poc-english_6C_2018-04-17_0007.4.0.dict \n",
      "\n",
      "/Left-Wall-2018-04-14/POC-Turtle/MST_fixed_manually/disjuncts-ILE-disjuncts/no_LEFT-WALL/poc-english_5C_2018-04-17_0007.4.0.dict \n",
      "\n",
      "/Left-Wall-2018-04-14/POC-Turtle/R=6_Weight=1/disjuncts-ILE-disjuncts/LEFT-WALL/poc-english_8C_2018-04-17_0007.4.0.dict \n",
      "\n",
      "/Left-Wall-2018-04-14/POC-Turtle/R=6_Weight=1/disjuncts-ILE-disjuncts/no_LEFT-WALL/poc-english_7C_2018-04-17_0007.4.0.dict \n",
      "\n",
      "/Left-Wall-2018-04-14/POC-Turtle/R=6_Weight=6:R/disjuncts-ILE-disjuncts/LEFT-WALL/poc-english_7C_2018-04-17_0007.4.0.dict \n",
      "\n",
      "/Left-Wall-2018-04-14/POC-Turtle/R=6_Weight=6:R/disjuncts-ILE-disjuncts/no_LEFT-WALL/poc-english_6C_2018-04-17_0007.4.0.dict \n",
      "\n"
     ]
    }
   ],
   "source": [
    "context = 2          # actually set below (i)\n",
    "grammar_rules = 2    # actually set below (j)\n",
    "word_space = 'discrete'\n",
    "dim_reduction = 'none'\n",
    "clustering = 'group'\n",
    "print('Link Grammar rules saved to:\\n')\n",
    "verbose = 'none'\n",
    "for d in dirs:\n",
    "    for i,context in enumerate(['disjuncts']):\n",
    "        for j,rules in enumerate(['disjuncts']):\n",
    "            prj_d = batch_dir + d[d.rfind('/')+1:] + '/'+context+'-ILE-'+rules+'/'\n",
    "            for left_wall in ['LEFT-WALL', '']:\n",
    "                if left_wall == '': prj_dir = prj_d + 'no_LEFT-WALL/'\n",
    "                else: prj_dir = prj_d + left_wall + '/'\n",
    "                if check_dir(prj_dir, True, 'none'):\n",
    "                    rules = learn_grammar(d, prj_dir, prj_dir, tmpath, verbose, \\\n",
    "                        parse_mode, left_wall, period, i, window, weighting, group, \\\n",
    "                        word_space, dim_max, sv_min, dim_reduction, \\\n",
    "                        clustering, cluster_range, cluster_criteria, cluster_level,\n",
    "                        generalization, merge, aggregate, j)\n",
    "                    print(rules.split('\\n')[-1][65:], '\\n')"
   ]
  },
  {
   "cell_type": "markdown",
   "metadata": {},
   "source": [
    "# POC-English-NoAmb corpus, batch mode"
   ]
  },
  {
   "cell_type": "code",
   "execution_count": 10,
   "metadata": {},
   "outputs": [
    {
     "name": "stdout",
     "output_type": "stream",
     "text": [
      "dirs:\n",
      "/home/obaskov/language-learning/data/POC_English_NoAmb/Andres_parses_gold_2018-04-06\n",
      "/home/obaskov/language-learning/data/POC_English_NoAmb/LG_ANY_all_parses\n",
      "/home/obaskov/language-learning/data/POC_English_NoAmb/LG_English\n",
      "/home/obaskov/language-learning/data/POC_English_NoAmb/MST_fixed_manually\n",
      "/home/obaskov/language-learning/data/POC_English_NoAmb/R=6_distance=1\n",
      "/home/obaskov/language-learning/data/POC_English_NoAmb/R=6_distance=6:R\n"
     ]
    }
   ],
   "source": [
    "verbose = 'none'\n",
    "input_batch = module_path + '/data/POC_English_NoAmb/'\n",
    "dirs = sorted([x[0] for x in os.walk(input_batch)])[1:]\n",
    "print('dirs:')\n",
    "for d in dirs: print(d)\n",
    "batch_dir = module_path + '/output/Left-Wall-2018-04-14/POC_English_NoAmb/'"
   ]
  },
  {
   "cell_type": "markdown",
   "metadata": {},
   "source": [
    "## Clustering (\"DRK\" -- SVM and K-Means)"
   ]
  },
  {
   "cell_type": "code",
   "execution_count": 11,
   "metadata": {},
   "outputs": [
    {
     "name": "stdout",
     "output_type": "stream",
     "text": [
      "Link Grammar rules saved to:\n",
      "\n",
      "/Left-Wall-2018-04-14/POC_English_NoAmb/Andres_parses_gold_2018-04-06/connectors-DRK-connectors/LEFT-WALL/poc-english_10C_2018-04-17_0007.4.0.dict \n",
      "\n",
      "/Left-Wall-2018-04-14/POC_English_NoAmb/Andres_parses_gold_2018-04-06/connectors-DRK-connectors/no_LEFT-WALL/poc-english_9C_2018-04-17_0007.4.0.dict \n",
      "\n",
      "/Left-Wall-2018-04-14/POC_English_NoAmb/Andres_parses_gold_2018-04-06/connectors-DRK-disjuncts/LEFT-WALL/poc-english_10C_2018-04-17_0007.4.0.dict \n",
      "\n",
      "/Left-Wall-2018-04-14/POC_English_NoAmb/Andres_parses_gold_2018-04-06/connectors-DRK-disjuncts/no_LEFT-WALL/poc-english_9C_2018-04-17_0007.4.0.dict \n",
      "\n",
      "/Left-Wall-2018-04-14/POC_English_NoAmb/Andres_parses_gold_2018-04-06/disjuncts-DRK-connectors/LEFT-WALL/poc-english_15C_2018-04-17_0007.4.0.dict \n",
      "\n",
      "/Left-Wall-2018-04-14/POC_English_NoAmb/Andres_parses_gold_2018-04-06/disjuncts-DRK-connectors/no_LEFT-WALL/poc-english_14C_2018-04-17_0007.4.0.dict \n",
      "\n",
      "/Left-Wall-2018-04-14/POC_English_NoAmb/Andres_parses_gold_2018-04-06/disjuncts-DRK-disjuncts/LEFT-WALL/poc-english_15C_2018-04-17_0007.4.0.dict \n",
      "\n",
      "/Left-Wall-2018-04-14/POC_English_NoAmb/Andres_parses_gold_2018-04-06/disjuncts-DRK-disjuncts/no_LEFT-WALL/poc-english_14C_2018-04-17_0007.4.0.dict \n",
      "\n",
      "/Left-Wall-2018-04-14/POC_English_NoAmb/LG_ANY_all_parses/connectors-DRK-connectors/LEFT-WALL/poc-english_13C_2018-04-17_0007.4.0.dict \n",
      "\n",
      "/Left-Wall-2018-04-14/POC_English_NoAmb/LG_ANY_all_parses/connectors-DRK-connectors/no_LEFT-WALL/poc-english_12C_2018-04-17_0007.4.0.dict \n",
      "\n",
      "/Left-Wall-2018-04-14/POC_English_NoAmb/LG_ANY_all_parses/connectors-DRK-disjuncts/LEFT-WALL/poc-english_13C_2018-04-17_0007.4.0.dict \n",
      "\n",
      "/Left-Wall-2018-04-14/POC_English_NoAmb/LG_ANY_all_parses/connectors-DRK-disjuncts/no_LEFT-WALL/poc-english_12C_2018-04-17_0007.4.0.dict \n",
      "\n",
      "/Left-Wall-2018-04-14/POC_English_NoAmb/LG_ANY_all_parses/disjuncts-DRK-connectors/LEFT-WALL/poc-english_16C_2018-04-17_0007.4.0.dict \n",
      "\n",
      "/Left-Wall-2018-04-14/POC_English_NoAmb/LG_ANY_all_parses/disjuncts-DRK-connectors/no_LEFT-WALL/poc-english_15C_2018-04-17_0007.4.0.dict \n",
      "\n",
      "/Left-Wall-2018-04-14/POC_English_NoAmb/LG_ANY_all_parses/disjuncts-DRK-disjuncts/LEFT-WALL/poc-english_16C_2018-04-17_0007.4.0.dict \n",
      "\n",
      "/Left-Wall-2018-04-14/POC_English_NoAmb/LG_ANY_all_parses/disjuncts-DRK-disjuncts/no_LEFT-WALL/poc-english_15C_2018-04-17_0007.4.0.dict \n",
      "\n",
      "/Left-Wall-2018-04-14/POC_English_NoAmb/LG_English/connectors-DRK-connectors/LEFT-WALL/poc-english_11C_2018-04-17_0007.4.0.dict \n",
      "\n",
      "/Left-Wall-2018-04-14/POC_English_NoAmb/LG_English/connectors-DRK-connectors/no_LEFT-WALL/poc-english_10C_2018-04-17_0007.4.0.dict \n",
      "\n",
      "/Left-Wall-2018-04-14/POC_English_NoAmb/LG_English/connectors-DRK-disjuncts/LEFT-WALL/poc-english_11C_2018-04-17_0007.4.0.dict \n",
      "\n",
      "/Left-Wall-2018-04-14/POC_English_NoAmb/LG_English/connectors-DRK-disjuncts/no_LEFT-WALL/poc-english_10C_2018-04-17_0007.4.0.dict \n",
      "\n",
      "/Left-Wall-2018-04-14/POC_English_NoAmb/LG_English/disjuncts-DRK-connectors/LEFT-WALL/poc-english_15C_2018-04-17_0007.4.0.dict \n",
      "\n",
      "/Left-Wall-2018-04-14/POC_English_NoAmb/LG_English/disjuncts-DRK-connectors/no_LEFT-WALL/poc-english_13C_2018-04-17_0007.4.0.dict \n",
      "\n",
      "/Left-Wall-2018-04-14/POC_English_NoAmb/LG_English/disjuncts-DRK-disjuncts/LEFT-WALL/poc-english_15C_2018-04-17_0007.4.0.dict \n",
      "\n",
      "/Left-Wall-2018-04-14/POC_English_NoAmb/LG_English/disjuncts-DRK-disjuncts/no_LEFT-WALL/poc-english_13C_2018-04-17_0007.4.0.dict \n",
      "\n",
      "/Left-Wall-2018-04-14/POC_English_NoAmb/MST_fixed_manually/connectors-DRK-connectors/LEFT-WALL/poc-english_9C_2018-04-17_0007.4.0.dict \n",
      "\n",
      "/Left-Wall-2018-04-14/POC_English_NoAmb/MST_fixed_manually/connectors-DRK-connectors/no_LEFT-WALL/poc-english_8C_2018-04-17_0007.4.0.dict \n",
      "\n",
      "/Left-Wall-2018-04-14/POC_English_NoAmb/MST_fixed_manually/connectors-DRK-disjuncts/LEFT-WALL/poc-english_9C_2018-04-17_0007.4.0.dict \n",
      "\n",
      "/Left-Wall-2018-04-14/POC_English_NoAmb/MST_fixed_manually/connectors-DRK-disjuncts/no_LEFT-WALL/poc-english_8C_2018-04-17_0007.4.0.dict \n",
      "\n",
      "/Left-Wall-2018-04-14/POC_English_NoAmb/MST_fixed_manually/disjuncts-DRK-connectors/LEFT-WALL/poc-english_15C_2018-04-17_0007.4.0.dict \n",
      "\n",
      "/Left-Wall-2018-04-14/POC_English_NoAmb/MST_fixed_manually/disjuncts-DRK-connectors/no_LEFT-WALL/poc-english_13C_2018-04-17_0007.4.0.dict \n",
      "\n",
      "/Left-Wall-2018-04-14/POC_English_NoAmb/MST_fixed_manually/disjuncts-DRK-disjuncts/LEFT-WALL/poc-english_15C_2018-04-17_0007.4.0.dict \n",
      "\n",
      "/Left-Wall-2018-04-14/POC_English_NoAmb/MST_fixed_manually/disjuncts-DRK-disjuncts/no_LEFT-WALL/poc-english_13C_2018-04-17_0007.4.0.dict \n",
      "\n",
      "/Left-Wall-2018-04-14/POC_English_NoAmb/R=6_distance=1/connectors-DRK-connectors/LEFT-WALL/poc-english_15C_2018-04-17_0007.4.0.dict \n",
      "\n",
      "/Left-Wall-2018-04-14/POC_English_NoAmb/R=6_distance=1/connectors-DRK-connectors/no_LEFT-WALL/poc-english_14C_2018-04-17_0007.4.0.dict \n",
      "\n",
      "/Left-Wall-2018-04-14/POC_English_NoAmb/R=6_distance=1/connectors-DRK-disjuncts/LEFT-WALL/poc-english_15C_2018-04-17_0007.4.0.dict \n",
      "\n",
      "/Left-Wall-2018-04-14/POC_English_NoAmb/R=6_distance=1/connectors-DRK-disjuncts/no_LEFT-WALL/poc-english_14C_2018-04-17_0007.4.0.dict \n",
      "\n",
      "/Left-Wall-2018-04-14/POC_English_NoAmb/R=6_distance=1/disjuncts-DRK-connectors/LEFT-WALL/poc-english_20C_2018-04-17_0007.4.0.dict \n",
      "\n",
      "/Left-Wall-2018-04-14/POC_English_NoAmb/R=6_distance=1/disjuncts-DRK-connectors/no_LEFT-WALL/poc-english_19C_2018-04-17_0007.4.0.dict \n",
      "\n",
      "/Left-Wall-2018-04-14/POC_English_NoAmb/R=6_distance=1/disjuncts-DRK-disjuncts/LEFT-WALL/poc-english_20C_2018-04-17_0007.4.0.dict \n",
      "\n",
      "/Left-Wall-2018-04-14/POC_English_NoAmb/R=6_distance=1/disjuncts-DRK-disjuncts/no_LEFT-WALL/poc-english_19C_2018-04-17_0007.4.0.dict \n",
      "\n",
      "/Left-Wall-2018-04-14/POC_English_NoAmb/R=6_distance=6:R/connectors-DRK-connectors/LEFT-WALL/poc-english_13C_2018-04-17_0007.4.0.dict \n",
      "\n",
      "/Left-Wall-2018-04-14/POC_English_NoAmb/R=6_distance=6:R/connectors-DRK-connectors/no_LEFT-WALL/poc-english_12C_2018-04-17_0007.4.0.dict \n",
      "\n",
      "/Left-Wall-2018-04-14/POC_English_NoAmb/R=6_distance=6:R/connectors-DRK-disjuncts/LEFT-WALL/poc-english_13C_2018-04-17_0007.4.0.dict \n",
      "\n",
      "/Left-Wall-2018-04-14/POC_English_NoAmb/R=6_distance=6:R/connectors-DRK-disjuncts/no_LEFT-WALL/poc-english_12C_2018-04-17_0007.4.0.dict \n",
      "\n",
      "/Left-Wall-2018-04-14/POC_English_NoAmb/R=6_distance=6:R/disjuncts-DRK-connectors/LEFT-WALL/poc-english_16C_2018-04-17_0007.4.0.dict \n",
      "\n",
      "/Left-Wall-2018-04-14/POC_English_NoAmb/R=6_distance=6:R/disjuncts-DRK-connectors/no_LEFT-WALL/poc-english_15C_2018-04-17_0007.4.0.dict \n",
      "\n",
      "/Left-Wall-2018-04-14/POC_English_NoAmb/R=6_distance=6:R/disjuncts-DRK-disjuncts/LEFT-WALL/poc-english_16C_2018-04-17_0007.4.0.dict \n",
      "\n",
      "/Left-Wall-2018-04-14/POC_English_NoAmb/R=6_distance=6:R/disjuncts-DRK-disjuncts/no_LEFT-WALL/poc-english_15C_2018-04-17_0007.4.0.dict \n",
      "\n"
     ]
    }
   ],
   "source": [
    "verbose = 'none'\n",
    "print('Link Grammar rules saved to:\\n')\n",
    "for d in dirs:\n",
    "    for i,context in enumerate(['connectors', 'disjuncts']):\n",
    "        for j,rules in enumerate(['connectors', 'disjuncts']):\n",
    "            prj_d = batch_dir + d[d.rfind('/')+1:] + '/'+context+'-DRK-'+rules+'/'\n",
    "            for left_wall in ['LEFT-WALL', '']:\n",
    "                if left_wall == '': prj_dir = prj_d + 'no_LEFT-WALL/'\n",
    "                else: prj_dir = prj_d + left_wall + '/'\n",
    "                if check_dir(prj_dir, True, 'none'):\n",
    "                    rules = learn_grammar(d, prj_dir, prj_dir, tmpath, verbose, \\\n",
    "                        parse_mode, left_wall, period, i, window, weighting, group, \\\n",
    "                        word_space, dim_max, sv_min, dim_reduction, \\\n",
    "                        clustering, cluster_range, cluster_criteria, cluster_level,\n",
    "                        generalization, merge, aggregate, j)\n",
    "                    print(rules.split('\\n')[-1][65:], '\\n')"
   ]
  },
  {
   "cell_type": "markdown",
   "metadata": {},
   "source": [
    "## Grouping lexical entries (\"Disjuncts - ILE - disjuncts\")"
   ]
  },
  {
   "cell_type": "code",
   "execution_count": 12,
   "metadata": {},
   "outputs": [
    {
     "name": "stdout",
     "output_type": "stream",
     "text": [
      "Link Grammar rules saved to:\n",
      "\n",
      "/Left-Wall-2018-04-14/POC_English_NoAmb/Andres_parses_gold_2018-04-06/disjuncts-ILE-disjuncts/LEFT-WALL/poc-english_10C_2018-04-17_0007.4.0.dict \n",
      "\n",
      "/Left-Wall-2018-04-14/POC_English_NoAmb/Andres_parses_gold_2018-04-06/disjuncts-ILE-disjuncts/no_LEFT-WALL/poc-english_9C_2018-04-17_0007.4.0.dict \n",
      "\n",
      "/Left-Wall-2018-04-14/POC_English_NoAmb/LG_ANY_all_parses/disjuncts-ILE-disjuncts/LEFT-WALL/poc-english_13C_2018-04-17_0007.4.0.dict \n",
      "\n",
      "/Left-Wall-2018-04-14/POC_English_NoAmb/LG_ANY_all_parses/disjuncts-ILE-disjuncts/no_LEFT-WALL/poc-english_12C_2018-04-17_0007.4.0.dict \n",
      "\n",
      "/Left-Wall-2018-04-14/POC_English_NoAmb/LG_English/disjuncts-ILE-disjuncts/LEFT-WALL/poc-english_11C_2018-04-17_0007.4.0.dict \n",
      "\n",
      "/Left-Wall-2018-04-14/POC_English_NoAmb/LG_English/disjuncts-ILE-disjuncts/no_LEFT-WALL/poc-english_10C_2018-04-17_0007.4.0.dict \n",
      "\n",
      "/Left-Wall-2018-04-14/POC_English_NoAmb/MST_fixed_manually/disjuncts-ILE-disjuncts/LEFT-WALL/poc-english_9C_2018-04-17_0007.4.0.dict \n",
      "\n",
      "/Left-Wall-2018-04-14/POC_English_NoAmb/MST_fixed_manually/disjuncts-ILE-disjuncts/no_LEFT-WALL/poc-english_8C_2018-04-17_0007.4.0.dict \n",
      "\n",
      "/Left-Wall-2018-04-14/POC_English_NoAmb/R=6_distance=1/disjuncts-ILE-disjuncts/LEFT-WALL/poc-english_15C_2018-04-17_0007.4.0.dict \n",
      "\n",
      "/Left-Wall-2018-04-14/POC_English_NoAmb/R=6_distance=1/disjuncts-ILE-disjuncts/no_LEFT-WALL/poc-english_14C_2018-04-17_0007.4.0.dict \n",
      "\n",
      "/Left-Wall-2018-04-14/POC_English_NoAmb/R=6_distance=6:R/disjuncts-ILE-disjuncts/LEFT-WALL/poc-english_13C_2018-04-17_0007.4.0.dict \n",
      "\n",
      "/Left-Wall-2018-04-14/POC_English_NoAmb/R=6_distance=6:R/disjuncts-ILE-disjuncts/no_LEFT-WALL/poc-english_12C_2018-04-17_0007.4.0.dict \n",
      "\n"
     ]
    }
   ],
   "source": [
    "verbose = 'none'\n",
    "context = 2          # 'disjuncts' - actually set below (i)\n",
    "grammar_rules = 2    # 'disjuncts' - actually set below (j)\n",
    "word_space = 'discrete'\n",
    "dim_reduction = 'none'\n",
    "clustering = 'group'\n",
    "verbose = 'none'\n",
    "print('Link Grammar rules saved to:\\n')\n",
    "for d in dirs:\n",
    "    for i,context in enumerate(['disjuncts']):\n",
    "        for j,rules in enumerate(['disjuncts']):\n",
    "            prj_d = batch_dir + d[d.rfind('/')+1:] + '/'+context+'-ILE-'+rules+'/'\n",
    "            for left_wall in ['LEFT-WALL', '']:\n",
    "                if left_wall == '': prj_dir = prj_d + 'no_LEFT-WALL/'\n",
    "                else: prj_dir = prj_d + left_wall + '/'\n",
    "                if check_dir(prj_dir, True, 'none'):\n",
    "                    rules = learn_grammar(d, prj_dir, prj_dir, tmpath, verbose, \\\n",
    "                        parse_mode, left_wall, period, i, window, weighting, group, \\\n",
    "                        word_space, dim_max, sv_min, dim_reduction, \\\n",
    "                        clustering, cluster_range, cluster_criteria, cluster_level,\n",
    "                        generalization, merge, aggregate, j)\n",
    "                    print(rules.split('\\n')[-1][65:], '\\n')"
   ]
  },
  {
   "cell_type": "code",
   "execution_count": null,
   "metadata": {},
   "outputs": [],
   "source": []
  }
 ],
 "metadata": {
  "kernelspec": {
   "display_name": "Python [default]",
   "language": "python",
   "name": "python3"
  },
  "language_info": {
   "codemirror_mode": {
    "name": "ipython",
    "version": 3
   },
   "file_extension": ".py",
   "mimetype": "text/x-python",
   "name": "python",
   "nbconvert_exporter": "python",
   "pygments_lexer": "ipython3",
   "version": "3.6.4"
  },
  "toc": {
   "nav_menu": {},
   "number_sections": true,
   "sideBar": true,
   "skip_h1_title": false,
   "title_cell": "Table of Contents",
   "title_sidebar": "Contents",
   "toc_cell": false,
   "toc_position": {},
   "toc_section_display": true,
   "toc_window_display": false
  }
 },
 "nbformat": 4,
 "nbformat_minor": 2
}
