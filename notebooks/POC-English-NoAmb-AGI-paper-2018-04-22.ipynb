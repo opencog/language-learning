{
 "cells": [
  {
   "cell_type": "markdown",
   "metadata": {},
   "source": [
    "# POC-English-Noamb: Test MST-parses `2018-04-22`\n",
    "\n",
    "Data for AGI-2018 paper: learn grammar with various Grammar Learner settings using various parses of \"POC-English-NoAmb\" corpus.\n",
    "\n",
    "## Grammar Learner POC.0.3: \n",
    "- Separate category learning and grammar learning,\n",
    "- Clustering option: grouping identical contexts (former \"Identical Lexical Entries\" branch,\n",
    "- Link Grammar rules based on connector sets (\"relaxed rules\") or disjunct sets (\"strict rules\");  \n",
    "\n",
    "Input data: [http://88.99.210.144/data/clustering_2018/data/POC-English-NoAmb/](http://88.99.210.144/data/clustering_2018/data/POC-English-NoAmb/);  \n",
    "Test results: [http://88.99.210.144/data/clustering_2018/AGI-2018/](http://88.99.210.144/data/clustering_2018/AGI-2018/).  \n",
    "\n",
    "A static html copy of this notebook is shared via  \n",
    "[http://88.99.210.144/data/clustering_2018/html/POC-English-NoAmb-AGI-2018.html](http://88.99.210.144/data/clustering_2018/html/POC-English-NoAmb-AGI-2018.html).  \n",
    "Similar tests with POC-Turtle corpus: [http://88.99.210.144/data/clustering_2018/html/POC-Turtle-8-Test-MST-parses.html](http://88.99.210.144/data/clustering_2018/html/POC-Turtle-8-Test-MST-parses.html).  "
   ]
  },
  {
   "cell_type": "markdown",
   "metadata": {},
   "source": [
    "## Basic settings"
   ]
  },
  {
   "cell_type": "code",
   "execution_count": 1,
   "metadata": {},
   "outputs": [
    {
     "name": "stdout",
     "output_type": "stream",
     "text": [
      "Baseline dataset:\n",
      "- /home/oleg/language-learning/data/POC-English-NoAmb/MST_fixed_manually/\n",
      "Input data directory structure (input_batch subdirs):\n",
      "- /home/oleg/language-learning/data/POC-English-NoAmb/LG_ANY_all_parses\n",
      "- /home/oleg/language-learning/data/POC-English-NoAmb/LG_English\n",
      "- /home/oleg/language-learning/data/POC-English-NoAmb/MST_fixed_manually\n",
      "- /home/oleg/language-learning/data/POC-English-NoAmb/R=6_distance=1\n",
      "- /home/oleg/language-learning/data/POC-English-NoAmb/R=6_distance=6:R\n",
      "Output data directory (out_dir):\n",
      "- /home/oleg/language-learning/output/AGI-2018-paper-data-2018-04-22/\n",
      "2018-04-22 17:51:43 UTC\n"
     ]
    }
   ],
   "source": [
    "import os, sys, time\n",
    "import numpy as np\n",
    "import pandas as pd\n",
    "import matplotlib.pyplot as plt\n",
    "%matplotlib inline\n",
    "from IPython.display import display\n",
    "module_path = os.path.abspath(os.path.join('..'))\n",
    "if module_path not in sys.path: sys.path.append(module_path)\n",
    "from src.utl.utl import UTC\n",
    "from src.utl.read_files import check_dir\n",
    "from src.grammar_learner.poc03 import learn_grammar\n",
    "\n",
    "input_dir = module_path + '/data/POC-English-NoAmb/MST_fixed_manually/'\n",
    "print('Baseline dataset:\\n-', input_dir)\n",
    "input_batch = module_path + '/data/POC-English-NoAmb/'\n",
    "dirs = sorted([x[0] for x in os.walk(input_batch)])[1:]\n",
    "print('Input data directory structure (input_batch subdirs):')\n",
    "for d in dirs: print('-',d)\n",
    "out_dir = module_path + '/output/AGI-2018-paper-data-' + str(UTC())[:10] + '/'\n",
    "print('Output data directory (out_dir):\\n-', out_dir)\n",
    "prefix = '' # unused option\n",
    "tmpath = module_path + '/tmp/'\n",
    "check_dir(tmpath, True, 'none')\n",
    "print(UTC())"
   ]
  },
  {
   "cell_type": "markdown",
   "metadata": {},
   "source": [
    "## Grammar Learner test call, parameters"
   ]
  },
  {
   "cell_type": "code",
   "execution_count": 2,
   "metadata": {},
   "outputs": [
    {
     "name": "stdout",
     "output_type": "stream",
     "text": [
      "2018-04-22 17:51:43 UTC\n"
     ]
    }
   ],
   "source": [
    "def test_learn_grammar(input_dir, prj_dir, left_wall, period, context, word_space, \\\n",
    "                       dim_reduction, clustering, grammar_rules, \\\n",
    "                       verbose = 'none'):\n",
    "    # Directory to read parse files (1 to many input files)\n",
    "    #-input_dir = module_path + '/data/POC-English-NoAmb/mst_fixed_manually/'\n",
    "    # Paths to store learned categories, learned dictionary Link Grammar file\n",
    "    if check_dir(prj_dir, create=True, verbose='none'):\n",
    "        cat_path = prj_dir  # Path to store learned categories\n",
    "        dict_path = prj_dir # Path to store learned dictionary Link Grammar file\n",
    "    # Settings:\n",
    "    parse_mode = 'given'        # 'given' (default) / 'explosive' (next)\n",
    "    #^left_wall = 'LEFT-WALL'     # '','none' / 'ABC' - replace ###LEFT-WALL### with ABC\n",
    "    #^period = True               # use period in links learning: True/False\n",
    "    #^context = 1                 # 1: connectors / 0: 'words' /\n",
    "    #^context = 2               # 2,3...: disjuncts with limited number of links\n",
    "    window = 'mst'              # 'mst' / reserved options for «explosive» parsing\n",
    "    weighting = 'ppmi'          # 'ppmi' / future options\n",
    "    group = True                # group items after link parsing, sum counts \n",
    "    #^word_space = 'vectors'      # 'vectors' - dimensionality reduction with SVM\n",
    "    #^word_space = 'discrete'     #  'discrete' - no dimensionality reduction\n",
    "    dim_max = 100               # max vector space dimensionality\n",
    "    sv_min = 0.1                # minimal singular value (fraction of the max value)\n",
    "    #^dim_reduction = 'svm'     # 'svm' / 'none' (discrete word_space, group)\n",
    "    #^dim_reduction = 'none'\n",
    "    #^clustering = 'kmeans'     # 'kmeans' / 'group' / future options\n",
    "    #^clustering = 'group'      # grouping identical lexical entries\n",
    "    cluster_range = (2,48,1)    # min, max, step\n",
    "    cluster_criteria = 'silhouette'\n",
    "    #-cluster_level = 0.9         # level = 0, 1, 0.-0.99..: 0 - max number of clusters\n",
    "    cluster_level = 1           # 80421: max Silhouettte index as number of clusters criteria\n",
    "    generalization = 'off'      # 'off' / future options: 'cosine', ...\n",
    "    merge = 0.8                 # merge clusters with similarity > this 'merge' criteria\n",
    "    aggregate = 0.2             # agglomerate clusters with similarity > this criteria\n",
    "    #^grammar_rules = 2           # 1: 'connectors' / 2 - 'disjuncts' / 0 - 'words' (TODO?)\n",
    "    #^verbose='mid'               # 'none', 'min', 'mid', 'max'\n",
    "    \n",
    "    lg_rules = learn_grammar(input_dir, cat_path, dict_path, tmpath, verbose, \\\n",
    "        parse_mode, left_wall, period, context, window, weighting, group, \\\n",
    "        word_space, dim_max, sv_min, dim_reduction, \\\n",
    "        clustering, cluster_range, cluster_criteria, cluster_level,\n",
    "        generalization, merge, aggregate, grammar_rules)\n",
    "    \n",
    "    return lg_rules  # .dict ⇒ string\n",
    "\n",
    "print(UTC())"
   ]
  },
  {
   "cell_type": "markdown",
   "metadata": {},
   "source": [
    "# LEFT-WALL and period"
   ]
  },
  {
   "cell_type": "code",
   "execution_count": 3,
   "metadata": {},
   "outputs": [
    {
     "name": "stdout",
     "output_type": "stream",
     "text": [
      "Output data directory (batch_dir): /home/oleg/language-learning/output/AGI-2018-paper-data-2018-04-22/POC-English-NoAmb-LEFT-WALL+period/\n"
     ]
    }
   ],
   "source": [
    "left_wall = 'LEFT-WALL'\n",
    "period = True\n",
    "verbose = 'none'\n",
    "batch_dir = out_dir + 'POC-English-NoAmb-LEFT-WALL+period/'\n",
    "print('Output data directory (batch_dir):', batch_dir)"
   ]
  },
  {
   "cell_type": "markdown",
   "metadata": {},
   "source": [
    "## «Connectors/disjuncts - DRK - connectors/disjuncts»\n",
    "- Word space context terms - connectors;  \n",
    "- DRK - dimensionality reduction (SVM) and K-means clustering;  \n",
    "- Link Grammar rules based on disjuncts;\n",
    "- batch mode"
   ]
  },
  {
   "cell_type": "code",
   "execution_count": 4,
   "metadata": {
    "scrolled": true
   },
   "outputs": [
    {
     "name": "stdout",
     "output_type": "stream",
     "text": [
      "Link Grammar rule files saved to\n",
      "/AGI-2018-paper-data-2018-04-22/POC-English-NoAmb-LEFT-WALL+period/:\n",
      "\n",
      "Clusters: [10, 11, 11, 12, 12, 12, 12, 12, 12, 12, 13, 15] ⇒ 12\n",
      "./LG_ANY_all_parses/connectors-DRK-connectors/poc-english_12C_2018-04-22_0008.4.0.dict\n",
      "Clusters: [10, 11, 11, 11, 11, 11, 11, 12, 13, 13, 13, 14] ⇒ 12\n",
      "./LG_ANY_all_parses/connectors-DRK-disjuncts/poc-english_12C_2018-04-22_0008.4.0.dict\n",
      "Clusters: [10, 11, 11, 11, 11, 11, 11, 11, 11, 11, 12, 12] ⇒ 11\n",
      "./LG_ANY_all_parses/disjuncts-DRK-connectors/poc-english_11C_2018-04-22_0008.4.0.dict\n",
      "Clusters: [10, 10, 11, 11, 11, 11, 11, 11, 11, 11, 11, 11] ⇒ 11\n",
      "./LG_ANY_all_parses/disjuncts-DRK-disjuncts/poc-english_11C_2018-04-22_0008.4.0.dict\n",
      "\n",
      "Clusters: [12, 12, 13, 13, 14, 14, 14, 14, 14, 14, 14, 14] ⇒ 14\n",
      "./LG_English/connectors-DRK-connectors/poc-english_14C_2018-04-22_0008.4.0.dict\n",
      "Clusters: [12, 13, 13, 13, 13, 14, 14, 14, 14, 14, 14, 14] ⇒ 14\n",
      "./LG_English/connectors-DRK-disjuncts/poc-english_14C_2018-04-22_0008.4.0.dict\n",
      "Clusters: [12, 13, 13, 13, 13, 13, 13, 13, 13, 13, 13, 14] ⇒ 13\n",
      "./LG_English/disjuncts-DRK-connectors/poc-english_13C_2018-04-22_0008.4.0.dict\n",
      "Clusters: [10, 13, 13, 13, 13, 14, 14, 14, 14, 14, 14, 14] ⇒ 14\n",
      "./LG_English/disjuncts-DRK-disjuncts/poc-english_14C_2018-04-22_0008.4.0.dict\n",
      "\n",
      "Clusters: [10, 10, 11, 12, 12, 12, 12, 12, 12, 12, 12, 12] ⇒ 12\n",
      "./MST_fixed_manually/connectors-DRK-connectors/poc-english_12C_2018-04-22_0008.4.0.dict\n",
      "Clusters: [10, 10, 10, 11, 11, 12, 12, 12, 12, 12, 12, 12] ⇒ 12\n",
      "./MST_fixed_manually/connectors-DRK-disjuncts/poc-english_12C_2018-04-22_0008.4.0.dict\n",
      "Clusters: [12, 13, 13, 13, 13, 13, 13, 13, 13, 13, 13, 14] ⇒ 13\n",
      "./MST_fixed_manually/disjuncts-DRK-connectors/poc-english_13C_2018-04-22_0008.4.0.dict\n",
      "Clusters: [12, 12, 13, 13, 13, 13, 13, 13, 13, 13, 13, 14] ⇒ 13\n",
      "./MST_fixed_manually/disjuncts-DRK-disjuncts/poc-english_13C_2018-04-22_0008.4.0.dict\n",
      "\n",
      "Clusters: [9, 9, 9, 9, 10, 11, 11, 11, 11, 11, 12, 12] ⇒ 11\n",
      "./R=6_distance=1/connectors-DRK-connectors/poc-english_11C_2018-04-22_0008.4.0.dict\n",
      "Clusters: [10, 10, 10, 10, 10, 10, 11, 11, 11, 11, 11, 11] ⇒ 10\n",
      "./R=6_distance=1/connectors-DRK-disjuncts/poc-english_10C_2018-04-22_0008.4.0.dict\n",
      "Clusters: [14, 14, 14, 14, 15, 15, 15, 15, 15, 15, 15, 15] ⇒ 15\n",
      "./R=6_distance=1/disjuncts-DRK-connectors/poc-english_15C_2018-04-22_0008.4.0.dict\n",
      "Clusters: [14, 14, 14, 14, 14, 14, 15, 15, 15, 15, 15, 15] ⇒ 14\n",
      "./R=6_distance=1/disjuncts-DRK-disjuncts/poc-english_14C_2018-04-22_0008.4.0.dict\n",
      "\n",
      "Clusters: [10, 10, 10, 10, 10, 10, 10, 11, 11, 12, 12, 12] ⇒ 10\n",
      "./R=6_distance=6:R/connectors-DRK-connectors/poc-english_10C_2018-04-22_0008.4.0.dict\n",
      "Clusters: [9, 10, 10, 10, 10, 11, 11, 12, 12, 12, 12, 13] ⇒ 11\n",
      "./R=6_distance=6:R/connectors-DRK-disjuncts/poc-english_11C_2018-04-22_0008.4.0.dict\n",
      "Clusters: [11, 11, 11, 11, 11, 11, 11, 11, 11, 15, 15, 15] ⇒ 11\n",
      "./R=6_distance=6:R/disjuncts-DRK-connectors/poc-english_11C_2018-04-22_0008.4.0.dict\n",
      "./R=6_distance=6:R/disjuncts-DRK-disjuncts/poc-english_11C_2018-04-22_0008.4.0.dict\n"
     ]
    }
   ],
   "source": [
    "batch_dir = out_dir + 'POC-English-NoAmb-LEFT-WALL+period/'\n",
    "left_wall = 'LEFT-WALL'\n",
    "period = True\n",
    "context = 1\n",
    "word_space = 'vectors'\n",
    "dim_reduction = 'svm'\n",
    "clustering = 'kmeans'\n",
    "generalization = 'off'\n",
    "grammar_rules = 2\n",
    "verbose = 'none'\n",
    "print('Link Grammar rule files saved to\\n' + batch_dir[35:] + ':')\n",
    "for d in dirs:\n",
    "    print()\n",
    "    for i,context in enumerate(['connectors', 'disjuncts']):\n",
    "        for j,rules in enumerate(['connectors', 'disjuncts']):\n",
    "            prj_dir = batch_dir + d[d.rfind('/')+1:] + '/'+context+'-DRK-'+rules+'/'\n",
    "            lg_rules = test_learn_grammar(d, prj_dir, left_wall, period, i+1, \\\n",
    "                word_space, dim_reduction, clustering, j+1, verbose)\n",
    "            print('.'+lg_rules.split('\\n')[-1][131:])"
   ]
  },
  {
   "cell_type": "markdown",
   "metadata": {},
   "source": [
    "## «Disjuncts - ILE - Disjuncts», batch mode\n",
    "- Word space terms - disjuncts;  \n",
    "- ILE - grouping identical lexical entries;  \n",
    "- Link Grammar rules based on disjuncts."
   ]
  },
  {
   "cell_type": "code",
   "execution_count": 5,
   "metadata": {},
   "outputs": [
    {
     "name": "stdout",
     "output_type": "stream",
     "text": [
      "Link Grammar rule files saved to\n",
      "/AGI-2018-paper-data-2018-04-22/POC-English-NoAmb-LEFT-WALL+period/:\n",
      "./LG_ANY_all_parses/disjuncts-ILE-disjuncts/poc-english_16C_2018-04-22_0008.4.0.dict\n",
      "./LG_English/disjuncts-ILE-disjuncts/poc-english_15C_2018-04-22_0008.4.0.dict\n",
      "./MST_fixed_manually/disjuncts-ILE-disjuncts/poc-english_15C_2018-04-22_0008.4.0.dict\n",
      "./R=6_distance=1/disjuncts-ILE-disjuncts/poc-english_20C_2018-04-22_0008.4.0.dict\n",
      "./R=6_distance=6:R/disjuncts-ILE-disjuncts/poc-english_16C_2018-04-22_0008.4.0.dict\n"
     ]
    }
   ],
   "source": [
    "batch_dir = out_dir + 'POC-English-NoAmb-LEFT-WALL+period/'\n",
    "subdir = 'disjuncts-ILE-disjuncts/'\n",
    "left_wall = 'LEFT-WALL'\n",
    "period = True\n",
    "context = 2\n",
    "word_space = 'discrete'\n",
    "dim_reduction = 'none'\n",
    "clustering = 'group'\n",
    "grammar_rules = 2\n",
    "verbose = 'min'\n",
    "print('Link Grammar rule files saved to\\n' + batch_dir[35:] + ':')\n",
    "for d in dirs:\n",
    "    #-print(d[d.rfind('/')+1:])\n",
    "    prj_dir = batch_dir + d[d.rfind('/')+1:] + '/' + subdir\n",
    "    lg_rules = test_learn_grammar(d, prj_dir, left_wall, period, i+1, \\\n",
    "        word_space, dim_reduction, clustering, j+1, verbose)\n",
    "    print('.'+lg_rules.split('\\n')[-1][131:])"
   ]
  },
  {
   "cell_type": "markdown",
   "metadata": {},
   "source": [
    "# No LEFT-WALL"
   ]
  },
  {
   "cell_type": "code",
   "execution_count": 6,
   "metadata": {},
   "outputs": [
    {
     "name": "stdout",
     "output_type": "stream",
     "text": [
      "Link Grammar rule files saved to\n",
      "/AGI-2018-paper-data-2018-04-22/POC-English-Noamb-no-LEFT-WALL/:\n",
      "\n",
      "Clusters: [8, 9, 9, 10, 10, 11, 11, 11, 11, 11, 12, 12] ⇒ 10\n",
      "./LG_ANY_all_parses/connectors-DRK-connectors/poc-english_10C_2018-04-22_0008.4.0.dict\n",
      "Clusters: [9, 9, 10, 10, 10, 10, 10, 10, 11, 11, 12, 13] ⇒ 10\n",
      "./LG_ANY_all_parses/connectors-DRK-disjuncts/poc-english_10C_2018-04-22_0008.4.0.dict\n",
      "Clusters: [8, 8, 8, 8, 9, 9, 9, 9, 9, 9, 10, 10] ⇒ 9\n",
      "./LG_ANY_all_parses/disjuncts-DRK-connectors/poc-english_9C_2018-04-22_0008.4.0.dict\n",
      "Clusters: [8, 8, 8, 8, 9, 9, 9, 9, 9, 9, 9, 9] ⇒ 9\n",
      "./LG_ANY_all_parses/disjuncts-DRK-disjuncts/poc-english_9C_2018-04-22_0008.4.0.dict\n",
      "./LG_ANY_all_parses/disjuncts-ILE-disjuncts/poc-english_15C_2018-04-22_0008.4.0.dict\n",
      "\n",
      "Clusters: [11, 11, 11, 12, 12, 12, 12, 12, 12, 12, 12, 12] ⇒ 12\n",
      "./LG_English/connectors-DRK-connectors/poc-english_12C_2018-04-22_0008.4.0.dict\n",
      "Clusters: [11, 11, 11, 11, 11, 11, 12, 12, 12, 12, 12, 12] ⇒ 12\n",
      "./LG_English/connectors-DRK-disjuncts/poc-english_12C_2018-04-22_0008.4.0.dict\n",
      "Clusters: [11, 11, 11, 11, 11, 11, 12, 12, 12, 12, 12, 12] ⇒ 12\n",
      "./LG_English/disjuncts-DRK-connectors/poc-english_12C_2018-04-22_0008.4.0.dict\n",
      "Clusters: [11, 11, 11, 11, 11, 11, 12, 12, 12, 12, 12, 12] ⇒ 12\n",
      "./LG_English/disjuncts-DRK-disjuncts/poc-english_12C_2018-04-22_0008.4.0.dict\n",
      "./LG_English/disjuncts-ILE-disjuncts/poc-english_13C_2018-04-22_0008.4.0.dict\n",
      "\n",
      "Clusters: [8, 8, 8, 9, 9, 9, 10, 10, 10, 10, 10, 10] ⇒ 9\n",
      "./MST_fixed_manually/connectors-DRK-connectors/poc-english_9C_2018-04-22_0008.4.0.dict\n",
      "Clusters: [7, 8, 8, 8, 8, 9, 9, 10, 10, 10, 10, 10] ⇒ 10\n",
      "./MST_fixed_manually/connectors-DRK-disjuncts/poc-english_10C_2018-04-22_0008.4.0.dict\n",
      "Clusters: [11, 11, 12, 12, 12, 12, 12, 12, 12, 12, 12, 12] ⇒ 12\n",
      "./MST_fixed_manually/disjuncts-DRK-connectors/poc-english_12C_2018-04-22_0008.4.0.dict\n",
      "Clusters: [10, 11, 11, 11, 12, 12, 12, 12, 12, 12, 12, 12] ⇒ 12\n",
      "./MST_fixed_manually/disjuncts-DRK-disjuncts/poc-english_12C_2018-04-22_0008.4.0.dict\n",
      "./MST_fixed_manually/disjuncts-ILE-disjuncts/poc-english_13C_2018-04-22_0008.4.0.dict\n",
      "\n",
      "Clusters: [8, 8, 9, 9, 9, 9, 9, 10, 11, 11, 12, 12] ⇒ 10\n",
      "./R=6_distance=1/connectors-DRK-connectors/poc-english_10C_2018-04-22_0008.4.0.dict\n",
      "Clusters: [8, 8, 9, 9, 9, 9, 10, 11, 11, 11, 12, 12] ⇒ 10\n",
      "./R=6_distance=1/connectors-DRK-disjuncts/poc-english_10C_2018-04-22_0008.4.0.dict\n",
      "Clusters: [14, 14, 14, 14, 14, 14, 15, 15, 15, 15, 15, 15] ⇒ 14\n",
      "./R=6_distance=1/disjuncts-DRK-connectors/poc-english_14C_2018-04-22_0008.4.0.dict\n",
      "Clusters: [12, 13, 13, 14, 14, 15, 15, 15, 15, 15, 15, 16] ⇒ 14\n",
      "./R=6_distance=1/disjuncts-DRK-disjuncts/poc-english_14C_2018-04-22_0008.4.0.dict\n",
      "./R=6_distance=1/disjuncts-ILE-disjuncts/poc-english_19C_2018-04-22_0008.4.0.dict\n",
      "\n",
      "Clusters: [9, 9, 9, 9, 9, 9, 10, 10, 10, 10, 11, 12] ⇒ 10\n",
      "./R=6_distance=6:R/connectors-DRK-connectors/poc-english_10C_2018-04-22_0008.4.0.dict\n",
      "Clusters: [9, 9, 9, 9, 9, 9, 9, 10, 10, 10, 10, 11] ⇒ 9\n",
      "./R=6_distance=6:R/connectors-DRK-disjuncts/poc-english_9C_2018-04-22_0008.4.0.dict\n",
      "Clusters: [11, 11, 11, 11, 11, 11, 11, 11, 14, 14, 14, 14] ⇒ 11\n",
      "./R=6_distance=6:R/disjuncts-DRK-connectors/poc-english_11C_2018-04-22_0008.4.0.dict\n",
      "Clusters: [11, 11, 11, 11, 11, 11, 11, 11, 14, 14, 14, 14] ⇒ 11\n",
      "./R=6_distance=6:R/disjuncts-DRK-disjuncts/poc-english_11C_2018-04-22_0008.4.0.dict\n",
      "./R=6_distance=6:R/disjuncts-ILE-disjuncts/poc-english_15C_2018-04-22_0008.4.0.dict\n"
     ]
    }
   ],
   "source": [
    "batch_dir = out_dir + 'POC-English-Noamb-no-LEFT-WALL/'\n",
    "left_wall = ''\n",
    "period = True\n",
    "word_space = 'vectors'\n",
    "dim_reduction = 'svm'\n",
    "clustering = 'kmeans'\n",
    "verbose = 'none'\n",
    "print('Link Grammar rule files saved to\\n' + batch_dir[35:] + ':')\n",
    "for d in dirs:\n",
    "    print()\n",
    "    for i,context in enumerate(['connectors', 'disjuncts']):\n",
    "        for j,rules in enumerate(['connectors', 'disjuncts']):\n",
    "            prj_dir = batch_dir + d[d.rfind('/')+1:] + '/'+context+'-DRK-'+rules+'/'\n",
    "            #-print(i,j,prj_dir)\n",
    "            lg_rules = test_learn_grammar(d, prj_dir, left_wall, period, i+1, \\\n",
    "                word_space, dim_reduction, clustering, j+1, verbose)\n",
    "            print('.'+lg_rules.split('\\n')[-1][127:])\n",
    "    ile_dir = batch_dir + d[d.rfind('/')+1:] + '/'+'disjuncts-ILE-disjuncts/'\n",
    "    lg_rules = test_learn_grammar(d, ile_dir, left_wall, period, 2, \\\n",
    "        'discrete', 'none', 'group', 2, verbose)\n",
    "    print('.'+lg_rules.split('\\n')[-1][127:])        "
   ]
  },
  {
   "cell_type": "markdown",
   "metadata": {},
   "source": [
    "# No LEFT-WALL, no period, batch mode"
   ]
  },
  {
   "cell_type": "code",
   "execution_count": 7,
   "metadata": {
    "scrolled": true
   },
   "outputs": [
    {
     "name": "stdout",
     "output_type": "stream",
     "text": [
      "Link Grammar rule files saved to\n",
      "/AGI-2018-paper-data-2018-04-22/POC-English-NoAmb-no-LEFT-WALL-no-period/:\n",
      "\n",
      "Clusters: [9, 9, 9, 9, 10, 10, 10, 10, 11, 11, 11, 13] ⇒ 10\n",
      "./LG_ANY_all_parses/connectors-DRK-connectors/poc-english_10C_2018-04-22_0008.4.0.dict\n",
      "Clusters: [9, 9, 9, 9, 10, 10, 10, 11, 11, 11, 11, 13] ⇒ 10\n",
      "./LG_ANY_all_parses/connectors-DRK-disjuncts/poc-english_10C_2018-04-22_0008.4.0.dict\n",
      "./LG_ANY_all_parses/disjuncts-DRK-connectors/poc-english_13C_2018-04-22_0008.4.0.dict\n",
      "Clusters: [10, 13, 13, 13, 13, 13, 13, 13, 13, 13, 13, 13] ⇒ 13\n",
      "./LG_ANY_all_parses/disjuncts-DRK-disjuncts/poc-english_13C_2018-04-22_0008.4.0.dict\n",
      "./LG_ANY_all_parses/disjuncts-ILE-disjuncts/poc-english_14C_2018-04-22_0008.4.0.dict\n",
      "\n",
      "Clusters: [11, 11, 11, 11, 12, 12, 12, 12, 12, 12, 12, 12] ⇒ 12\n",
      "./LG_English/connectors-DRK-connectors/poc-english_12C_2018-04-22_0008.4.0.dict\n",
      "Clusters: [11, 11, 11, 12, 12, 12, 12, 12, 12, 12, 12, 12] ⇒ 12\n",
      "./LG_English/connectors-DRK-disjuncts/poc-english_12C_2018-04-22_0008.4.0.dict\n",
      "Clusters: [11, 11, 11, 11, 11, 11, 11, 11, 12, 12, 12, 12] ⇒ 11\n",
      "./LG_English/disjuncts-DRK-connectors/poc-english_11C_2018-04-22_0008.4.0.dict\n",
      "Clusters: [11, 11, 11, 11, 11, 11, 11, 11, 12, 12, 12, 12] ⇒ 11\n",
      "./LG_English/disjuncts-DRK-disjuncts/poc-english_11C_2018-04-22_0008.4.0.dict\n",
      "./LG_English/disjuncts-ILE-disjuncts/poc-english_13C_2018-04-22_0008.4.0.dict\n",
      "\n",
      "Clusters: [8, 8, 8, 8, 8, 8, 8, 9, 9, 10, 10, 10] ⇒ 8\n",
      "./MST_fixed_manually/connectors-DRK-connectors/poc-english_8C_2018-04-22_0008.4.0.dict\n",
      "Clusters: [7, 8, 9, 9, 9, 9, 10, 10, 10, 10, 10, 10] ⇒ 9\n",
      "./MST_fixed_manually/connectors-DRK-disjuncts/poc-english_9C_2018-04-22_0008.4.0.dict\n",
      "Clusters: [11, 11, 12, 12, 12, 12, 12, 12, 12, 12, 12, 12] ⇒ 12\n",
      "./MST_fixed_manually/disjuncts-DRK-connectors/poc-english_12C_2018-04-22_0008.4.0.dict\n",
      "./MST_fixed_manually/disjuncts-DRK-disjuncts/poc-english_12C_2018-04-22_0008.4.0.dict\n",
      "./MST_fixed_manually/disjuncts-ILE-disjuncts/poc-english_13C_2018-04-22_0008.4.0.dict\n",
      "\n",
      "Clusters: [7, 7, 8, 8, 9, 9, 9, 10, 10, 11, 11, 11] ⇒ 9\n",
      "./R=6_distance=1/connectors-DRK-connectors/poc-english_9C_2018-04-22_0008.4.0.dict\n",
      "Clusters: [7, 7, 8, 9, 9, 9, 9, 9, 9, 9, 11, 11] ⇒ 9\n",
      "./R=6_distance=1/connectors-DRK-disjuncts/poc-english_9C_2018-04-22_0008.4.0.dict\n",
      "Clusters: [12, 13, 13, 13, 13, 13, 14, 14, 14, 14, 14, 14] ⇒ 14\n",
      "./R=6_distance=1/disjuncts-DRK-connectors/poc-english_14C_2018-04-22_0008.4.0.dict\n",
      "Clusters: [12, 13, 13, 13, 13, 13, 13, 13, 14, 14, 14, 14] ⇒ 13\n",
      "./R=6_distance=1/disjuncts-DRK-disjuncts/poc-english_13C_2018-04-22_0008.4.0.dict\n",
      "./R=6_distance=1/disjuncts-ILE-disjuncts/poc-english_18C_2018-04-22_0008.4.0.dict\n",
      "\n",
      "Clusters: [9, 9, 9, 9, 9, 9, 9, 9, 10, 10, 10, 11] ⇒ 9\n",
      "./R=6_distance=6:R/connectors-DRK-connectors/poc-english_9C_2018-04-22_0008.4.0.dict\n",
      "Clusters: [9, 9, 9, 9, 9, 9, 9, 10, 10, 10, 11, 11] ⇒ 9\n",
      "./R=6_distance=6:R/connectors-DRK-disjuncts/poc-english_9C_2018-04-22_0008.4.0.dict\n",
      "Clusters: [10, 10, 10, 10, 10, 10, 10, 10, 10, 10, 12, 13] ⇒ 10\n",
      "./R=6_distance=6:R/disjuncts-DRK-connectors/poc-english_10C_2018-04-22_0008.4.0.dict\n",
      "Clusters: [10, 10, 10, 10, 10, 10, 10, 10, 10, 10, 13, 13] ⇒ 10\n",
      "./R=6_distance=6:R/disjuncts-DRK-disjuncts/poc-english_10C_2018-04-22_0008.4.0.dict\n",
      "./R=6_distance=6:R/disjuncts-ILE-disjuncts/poc-english_14C_2018-04-22_0008.4.0.dict\n"
     ]
    }
   ],
   "source": [
    "batch_dir = out_dir + 'POC-English-NoAmb-no-LEFT-WALL-no-period/'\n",
    "left_wall = ''\n",
    "period = False\n",
    "word_space = 'vectors'\n",
    "dim_reduction = 'svm'\n",
    "clustering = 'kmeans'\n",
    "verbose = 'none'\n",
    "print('Link Grammar rule files saved to\\n' + batch_dir[35:] + ':')\n",
    "for d in dirs:\n",
    "    print()\n",
    "    for i,context in enumerate(['connectors', 'disjuncts']):\n",
    "        for j,rules in enumerate(['connectors', 'disjuncts']):\n",
    "            prj_dir = batch_dir + d[d.rfind('/')+1:] + '/'+context+'-DRK-'+rules+'/'\n",
    "            lg_rules = test_learn_grammar(d, prj_dir, left_wall, period, i+1, \\\n",
    "                word_space, dim_reduction, clustering, j+1, verbose)\n",
    "            print('.'+lg_rules.split('\\n')[-1][137:])\n",
    "    ile_dir = batch_dir + d[d.rfind('/')+1:] + '/'+'disjuncts-ILE-disjuncts/'\n",
    "    lg_rules = test_learn_grammar(d, ile_dir, left_wall, period, 2, \\\n",
    "        'discrete', 'none', 'group', 2, verbose)\n",
    "    print('.'+lg_rules.split('\\n')[-1][137:])        "
   ]
  },
  {
   "cell_type": "code",
   "execution_count": null,
   "metadata": {},
   "outputs": [],
   "source": []
  }
 ],
 "metadata": {
  "kernelspec": {
   "display_name": "Python [default]",
   "language": "python",
   "name": "python3"
  },
  "language_info": {
   "codemirror_mode": {
    "name": "ipython",
    "version": 3
   },
   "file_extension": ".py",
   "mimetype": "text/x-python",
   "name": "python",
   "nbconvert_exporter": "python",
   "pygments_lexer": "ipython3",
   "version": "3.6.4"
  },
  "toc": {
   "nav_menu": {},
   "number_sections": true,
   "sideBar": true,
   "skip_h1_title": false,
   "title_cell": "Table of Contents",
   "title_sidebar": "Contents",
   "toc_cell": false,
   "toc_position": {},
   "toc_section_display": true,
   "toc_window_display": false
  }
 },
 "nbformat": 4,
 "nbformat_minor": 2
}
