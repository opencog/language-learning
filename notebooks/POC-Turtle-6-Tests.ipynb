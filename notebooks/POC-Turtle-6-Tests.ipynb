{
 "cells": [
  {
   "cell_type": "markdown",
   "metadata": {},
   "source": [
    "# POC-Turtle-6: Tests\n",
    "This is a continuation of proof-of-concept (POC) experiments in unsupervised language learning (ULL), the SingularityNET project hosted on [GitHub]*(https://github.com/singnet/language-learning/tree/master/notebooks).  \n",
    "This notebook contains updated tests for [Grammar Learner v.0.3 2018-04-12](http://88.99.210.144/data/clustering_2018/html/Grammar-Learner-3-2018-04-12.html)."
   ]
  },
  {
   "cell_type": "markdown",
   "metadata": {},
   "source": [
    "## Basic settings"
   ]
  },
  {
   "cell_type": "code",
   "execution_count": 1,
   "metadata": {},
   "outputs": [
    {
     "name": "stdout",
     "output_type": "stream",
     "text": [
      "Baseline dataset:\n",
      "- /home/oleg/language-learning/data/POC-Turtle/MST_fixed_manually/\n",
      "Output data directory (batch_dir):\n",
      "- /home/oleg/language-learning/output/POC-Turtle-6-Tests-2018-04-25/\n",
      "2018-04-25 15:48:42 UTC\n"
     ]
    }
   ],
   "source": [
    "import os, sys, time\n",
    "import numpy as np\n",
    "import pandas as pd\n",
    "import matplotlib.pyplot as plt\n",
    "%matplotlib inline\n",
    "from IPython.display import display\n",
    "module_path = os.path.abspath(os.path.join('..'))\n",
    "if module_path not in sys.path: sys.path.append(module_path)\n",
    "from src.utl.utl import UTC\n",
    "from src.utl.read_files import check_dir\n",
    "from src.grammar_learner.poc03 import learn_grammar\n",
    "\n",
    "input_dir = module_path + '/data/POC-Turtle/MST_fixed_manually/'\n",
    "print('Baseline dataset:\\n-', input_dir)\n",
    "batch_dir = module_path + '/output/POC-Turtle-6-Tests-' + str(UTC())[:10] + '/'\n",
    "print('Output data directory (batch_dir):\\n-', batch_dir)\n",
    "prefix = '' # unused option\n",
    "tmpath = module_path + '/tmp/' # dir for tmp files\n",
    "check_dir(tmpath, True, 'none')\n",
    "print(UTC())"
   ]
  },
  {
   "cell_type": "markdown",
   "metadata": {},
   "source": [
    "## Grammar Learner parameters"
   ]
  },
  {
   "cell_type": "code",
   "execution_count": 2,
   "metadata": {},
   "outputs": [
    {
     "name": "stdout",
     "output_type": "stream",
     "text": [
      "2018-04-25 15:48:50 UTC\n"
     ]
    }
   ],
   "source": [
    "def test_learn_grammar(input_dir, prj_dir, left_wall, period, context, word_space, \\\n",
    "                       dim_reduction, clustering, grammar_rules, verbose = 'none'):\n",
    "    # Directory to read parse files (1 to many input files)\n",
    "    #^input_dir = module_path + '/data/POC_Turtle/mst_fixed_manually/'\n",
    "    # Paths to store learned categories, learned dictionary Link Grammar file\n",
    "    if check_dir(prj_dir, create=True, verbose='none'):\n",
    "        cat_path = prj_dir  # Path to store learned categories\n",
    "        dict_path = prj_dir # Path to store learned dictionary Link Grammar file\n",
    "    # Settings:\n",
    "    parse_mode = 'given'        # 'given' (default) / 'explosive' (next)\n",
    "    #^left_wall = 'LEFT-WALL'     # '','none' / 'ABC' - replace ###LEFT-WALL### with ABC\n",
    "    #^period = True               # use period in links learning: True/False\n",
    "    #^context = 1                 # 1: connectors / 0: 'words' /\n",
    "    #^context = 2               # 2,3...: disjuncts with limited number of links\n",
    "    window = 'mst'              # 'mst' / reserved options for «explosive» parsing\n",
    "    weighting = 'ppmi'          # 'ppmi' / future options\n",
    "    group = True                # group items after link parsing, sum counts \n",
    "    #^word_space = 'vectors'      # 'vectors' - dimensionality reduction with SVM\n",
    "    #^word_space = 'discrete'     #  'discrete' - no dimensionality reduction\n",
    "    dim_max = 100               # max vector space dimensionality\n",
    "    sv_min = 0.1                # minimal singular value (fraction of the max value)\n",
    "    #^dim_reduction = 'svm'     # 'svm' / 'none' (discrete word_space, group)\n",
    "    #^dim_reduction = 'none'\n",
    "    #^clustering = 'kmeans'     # 'kmeans' / 'group' / future options\n",
    "    #^clustering = 'group'      # grouping identical lexical entries\n",
    "    cluster_range = (2,48,1)    # min, max, step\n",
    "    cluster_criteria = 'silhouette'\n",
    "    cluster_level = 0.9         # level = 0, 1, 0.-0.99..: 0 - max number of clusters\n",
    "    generalization = 'off'      # 'off' / future options: 'cosine', ...\n",
    "    merge = 0.8                 # merge clusters with similarity > this 'merge' criteria\n",
    "    aggregate = 0.2             # agglomerate clusters with similarity > this criteria\n",
    "    #^grammar_rules = 2           # 1: 'connectors' / 2 - 'disjuncts' / 0 - 'words' (TODO?)\n",
    "    #^verbose='mid'               # 'none', 'min', 'mid', 'max'\n",
    "    \n",
    "    rules = learn_grammar(input_dir, cat_path, dict_path, tmpath, verbose, \\\n",
    "        parse_mode, left_wall, period, context, window, weighting, group, \\\n",
    "        word_space, dim_max, sv_min, dim_reduction, \\\n",
    "        clustering, cluster_range, cluster_criteria, cluster_level,\n",
    "        generalization, merge, aggregate, grammar_rules)\n",
    "    \n",
    "    return rules  # .dict ⇒ string\n",
    "\n",
    "print(UTC())"
   ]
  },
  {
   "cell_type": "markdown",
   "metadata": {},
   "source": [
    "# Integration test «Connectors - DRK - disjuncts»  \n",
    "- Word space context terms - connectors;  \n",
    "- DRK - dimensionality reduction (SVM) and K-means clustering;  \n",
    "- Link Grammar rules based on disjuncts. - "
   ]
  },
  {
   "cell_type": "code",
   "execution_count": 3,
   "metadata": {},
   "outputs": [],
   "source": [
    "context = 1                 # 1: connectors / 2: disjuncts /\n",
    "word_space = 'vectors'      # 'vectors' - dimensionality reduction with SVM\n",
    "dim_reduction = 'svm'       # 'svm' / 'none' (discrete word_space, group)\n",
    "clustering = 'kmeans'       # 'kmeans' / 'group' / future options\n",
    "generalization = 'off'      # 'off' / future options: 'cosine', ...\n",
    "grammar_rules = 2           # 1: connectors / 2 - disjuncts\n",
    "verbose = 'mid'"
   ]
  },
  {
   "cell_type": "markdown",
   "metadata": {},
   "source": [
    "## LEFT-WALL and period (full stop)"
   ]
  },
  {
   "cell_type": "code",
   "execution_count": 4,
   "metadata": {
    "scrolled": true
   },
   "outputs": [
    {
     "name": "stdout",
     "output_type": "stream",
     "text": [
      "/home/oleg/language-learning/output/POC-Turtle-6-Tests-2018-04-25/MST_fixed_manually/connectors-DRK-disjuncts_LW+dot+/\n",
      "15 unique words and 28 unique links form 64 unique word-link pairs from 64 parsed items\n"
     ]
    },
    {
     "data": {
      "image/png": "[encoded data removed]",
      "text/plain": [
       "<matplotlib.figure.Figure at 0x7f5cdc11eac8>"
      ]
     },
     "metadata": {},
     "output_type": "display_data"
    },
    {
     "name": "stdout",
     "output_type": "stream",
     "text": [
      "Vector space dimensionality = 7\n",
      "Singular value (7) = 3.4\n",
      "Max singular value (1) = 5.6\n",
      "Singular value (7) = 0.19275911971807783\n",
      "/poc03/category_learner: number of clusters = 4\n"
     ]
    },
    {
     "data": {
      "text/html": [
       "<table><tr><td>Parent</td><td>Category</td><td>Quality</td><td>Words</td><td>Relevance</td></tr><tr><td>C00</td><td>C01</td><td>0.0</td><td>['.', 'LEFT-WALL', 'has', 'isa']</td><td>[0, 0, 0, 0]</td></tr><tr><td>C00</td><td>C02</td><td>0.0</td><td>['bird', 'extremity', 'fish']</td><td>[0, 0, 0]</td></tr><tr><td>C00</td><td>C03</td><td>0.0</td><td>['feather', 'fin', 'scale', 'wing']</td><td>[0, 0, 0, 0]</td></tr><tr><td>C00</td><td>C04</td><td>0.0</td><td>['eagle', 'herring', 'parrot', 'tuna']</td><td>[0, 0, 0, 0]</td></tr></table>"
      ],
      "text/plain": [
       "<IPython.core.display.HTML object>"
      ]
     },
     "metadata": {},
     "output_type": "display_data"
    },
    {
     "name": "stdout",
     "output_type": "stream",
     "text": [
      "\n",
      "Category list - 4 lines, saved to /home/oleg/language-learning/output/POC-Turtle-6-Tests-2018-04-25/MST_fixed_manually/connectors-DRK-disjuncts_LW+dot+/4_categories.txt\n",
      "15 unique words and 29 unique links form 44 unique word-link pairs from 60 parsed items\n"
     ]
    },
    {
     "data": {
      "text/html": [
       "<table><tr><td>Cluster</td><td>Germs</td><td>L</td><td>R</td><td>Disjuncts</td></tr><tr><td>C01</td><td>['.', 'LEFT-WALL', 'has', 'isa']</td><td>[]</td><td>[]</td><td>['C01C03+', 'C01C04+', 'C02C01-', 'C03C01-', 'C03C01- & C01C02+', 'C03C01- & C01C03+', 'C04C01- & C01C02+', 'C04C01- & C01C03+']</td></tr><tr><td>C02</td><td>['bird', 'extremity', 'fish']</td><td>[]</td><td>[]</td><td>['C01C02- & C02C01+']</td></tr><tr><td>C03</td><td>['feather', 'fin', 'scale', 'wing']</td><td>[]</td><td>[]</td><td>['C01C03- & C03C01+']</td></tr><tr><td>C04</td><td>['eagle', 'herring', 'parrot', 'tuna']</td><td>[]</td><td>[]</td><td>['C01C04- & C04C01+']</td></tr></table>"
      ],
      "text/plain": [
       "<IPython.core.display.HTML object>"
      ]
     },
     "metadata": {},
     "output_type": "display_data"
    }
   ],
   "source": [
    "left_wall = 'LEFT-WALL'\n",
    "period = True\n",
    "subdir = 'connectors-DRK-disjuncts_LW+dot+/'\n",
    "prj_dir = batch_dir + 'MST_fixed_manually/' + subdir\n",
    "print(prj_dir)\n",
    "tmpath = prj_dir\n",
    "verbose = 'mid'\n",
    "rules = test_learn_grammar(input_dir, prj_dir, left_wall, period, \\\n",
    "    context, word_space, dim_reduction, clustering, grammar_rules, verbose)"
   ]
  },
  {
   "cell_type": "code",
   "execution_count": 5,
   "metadata": {},
   "outputs": [],
   "source": [
    "#-print('LG rules file saved to ..'+rules.split('\\n')[-1][63:])"
   ]
  },
  {
   "cell_type": "code",
   "execution_count": 6,
   "metadata": {},
   "outputs": [
    {
     "name": "stdout",
     "output_type": "stream",
     "text": [
      "% Grammar Learner v.0.8 2018-04-25 15:49:00 UTC\n",
      "<dictionary-version-number>: V0v0v8+;\n",
      "<dictionary-locale>: EN4us+;\n",
      "\n",
      "% C01\n",
      "\".\" \"LEFT-WALL\" \"has\" \"isa\":\n",
      "(C01C03+) or (C01C04+) or (C02C01-) or (C03C01-) or (C03C01- & C01C02+) or (C03C01- & C01C03+) or (C04C01- & C01C02+) or (C04C01- & C01C03+);\n",
      "\n",
      "% C02\n",
      "\"bird\" \"extremity\" \"fish\":\n",
      "(C01C02- & C02C01+);\n",
      "\n",
      "% C03\n",
      "\"feather\" \"fin\" \"scale\" \"wing\":\n",
      "(C01C03- & C03C01+);\n",
      "\n",
      "% C04\n",
      "\"eagle\" \"herring\" \"parrot\" \"tuna\":\n",
      "(C01C04- & C04C01+);\n",
      "\n",
      "UNKNOWN-WORD: XXX+;\n",
      "\n",
      "% 4 word clusters, 4 Link Grammar rules.\n",
      "% Link Grammar file saved to: /home/oleg/language-learning/output/POC-Turtle-6-Tests-2018-04-25/MST_fixed_manually/connectors-DRK-disjuncts_LW+dot+/poc-turtle_4C_2018-04-25_0008.4.0.dict\n"
     ]
    }
   ],
   "source": [
    "print(rules)"
   ]
  },
  {
   "cell_type": "markdown",
   "metadata": {},
   "source": [
    "_C02, C03, C04 rules demand C01 words on both sides:  \n",
    "-- would crash on sentences without LEFT-WALL or period,  \n",
    "-- would not always parse longer sentences.  \n",
    "The following case (no LEFT-WALL, no period) looks much more relevant..._"
   ]
  },
  {
   "cell_type": "markdown",
   "metadata": {},
   "source": [
    "## No LEFT-WALL, no period"
   ]
  },
  {
   "cell_type": "code",
   "execution_count": 7,
   "metadata": {
    "scrolled": true
   },
   "outputs": [
    {
     "name": "stdout",
     "output_type": "stream",
     "text": [
      "13 unique words and 17 unique links form 38 unique word-link pairs from 38 parsed items\n"
     ]
    },
    {
     "data": {
      "image/png": "[encoded data removed]",
      "text/plain": [
       "<matplotlib.figure.Figure at 0x7f5cd2fb5be0>"
      ]
     },
     "metadata": {},
     "output_type": "display_data"
    },
    {
     "name": "stdout",
     "output_type": "stream",
     "text": [
      "Vector space dimensionality = 5\n",
      "Singular value (5) = 2.6\n",
      "Max singular value (1) = 4.3\n",
      "All singular values within relevance interval - more than 0.1 of max singular value\n",
      "/poc03/category_learner: number of clusters = 4\n"
     ]
    },
    {
     "data": {
      "text/html": [
       "<table><tr><td>Parent</td><td>Category</td><td>Quality</td><td>Words</td><td>Relevance</td></tr><tr><td>C00</td><td>C01</td><td>0.0</td><td>['has', 'isa']</td><td>[0, 0]</td></tr><tr><td>C00</td><td>C02</td><td>0.0</td><td>['bird', 'extremity', 'fish']</td><td>[0, 0, 0]</td></tr><tr><td>C00</td><td>C03</td><td>0.0</td><td>['feather', 'fin', 'scale', 'wing']</td><td>[0, 0, 0, 0]</td></tr><tr><td>C00</td><td>C04</td><td>0.0</td><td>['eagle', 'herring', 'parrot', 'tuna']</td><td>[0, 0, 0, 0]</td></tr></table>"
      ],
      "text/plain": [
       "<IPython.core.display.HTML object>"
      ]
     },
     "metadata": {},
     "output_type": "display_data"
    },
    {
     "name": "stdout",
     "output_type": "stream",
     "text": [
      "\n",
      "Category list - 4 lines, saved to /home/oleg/language-learning/output/POC-Turtle-6-Tests-2018-04-25/MST_fixed_manually/connectors-DRK-disjuncts_LW-dot-/4_categories.txt\n",
      "13 unique words and 16 unique links form 31 unique word-link pairs from 36 parsed items\n"
     ]
    },
    {
     "data": {
      "text/html": [
       "<table><tr><td>Cluster</td><td>Germs</td><td>L</td><td>R</td><td>Disjuncts</td></tr><tr><td>C01</td><td>['has', 'isa']</td><td>[]</td><td>[]</td><td>['C03C01- & C01C02+', 'C03C01- & C01C03+', 'C04C01- & C01C02+', 'C04C01- & C01C03+']</td></tr><tr><td>C02</td><td>['bird', 'extremity', 'fish']</td><td>[]</td><td>[]</td><td>['C01C02-']</td></tr><tr><td>C03</td><td>['feather', 'fin', 'scale', 'wing']</td><td>[]</td><td>[]</td><td>['C01C03-', 'C03C01+']</td></tr><tr><td>C04</td><td>['eagle', 'herring', 'parrot', 'tuna']</td><td>[]</td><td>[]</td><td>['C04C01+']</td></tr></table>"
      ],
      "text/plain": [
       "<IPython.core.display.HTML object>"
      ]
     },
     "metadata": {},
     "output_type": "display_data"
    }
   ],
   "source": [
    "left_wall = ''\n",
    "period = False\n",
    "subdir = 'connectors-DRK-disjuncts_LW-dot-/'\n",
    "prj_dir = batch_dir + 'MST_fixed_manually/' + subdir\n",
    "#-print(prj_dir)\n",
    "tmpath = prj_dir\n",
    "verbose = 'mid'\n",
    "rules = test_learn_grammar(input_dir, prj_dir, left_wall, period, \\\n",
    "    context, word_space, dim_reduction, clustering, grammar_rules, verbose)\n",
    "if verbose in ['min','none']: \n",
    "    print('LG rules file saved to ..'+rules.split('\\n')[-1][63:])"
   ]
  },
  {
   "cell_type": "code",
   "execution_count": 8,
   "metadata": {},
   "outputs": [
    {
     "name": "stdout",
     "output_type": "stream",
     "text": [
      "% Grammar Learner v.0.8 2018-04-25 15:49:28 UTC\n",
      "<dictionary-version-number>: V0v0v8+;\n",
      "<dictionary-locale>: EN4us+;\n",
      "\n",
      "% C01\n",
      "\"has\" \"isa\":\n",
      "(C03C01- & C01C02+) or (C03C01- & C01C03+) or (C04C01- & C01C02+) or (C04C01- & C01C03+);\n",
      "\n",
      "% C02\n",
      "\"bird\" \"extremity\" \"fish\":\n",
      "(C01C02-);\n",
      "\n",
      "% C03\n",
      "\"feather\" \"fin\" \"scale\" \"wing\":\n",
      "(C01C03-) or (C03C01+);\n",
      "\n",
      "% C04\n",
      "\"eagle\" \"herring\" \"parrot\" \"tuna\":\n",
      "(C04C01+);\n",
      "\n",
      "UNKNOWN-WORD: XXX+;\n",
      "\n",
      "% 4 word clusters, 4 Link Grammar rules.\n",
      "% Link Grammar file saved to: /home/oleg/language-learning/output/POC-Turtle-6-Tests-2018-04-25/MST_fixed_manually/connectors-DRK-disjuncts_LW-dot-/poc-turtle_4C_2018-04-25_0008.4.0.dict\n"
     ]
    }
   ],
   "source": [
    "if verbose not in ['none']: print(rules)"
   ]
  },
  {
   "cell_type": "markdown",
   "metadata": {},
   "source": [
    "# Integration test «Disjuncts - ILE - disjuncts»   \n",
    "- Word space context terms - disjuncts;  \n",
    "- ILE - grouping identical lexical entries;  \n",
    "- Link Grammar rules based on disjuncts."
   ]
  },
  {
   "cell_type": "markdown",
   "metadata": {},
   "source": [
    "## LEFT-WALL and period"
   ]
  },
  {
   "cell_type": "code",
   "execution_count": 20,
   "metadata": {},
   "outputs": [
    {
     "name": "stdout",
     "output_type": "stream",
     "text": [
      "15 unique words and 29 unique links form 44 unique word-link pairs from 60 parsed items\n",
      "Total 8 clusters of identical lexical entries <class 'pandas.core.frame.DataFrame'>\n"
     ]
    },
    {
     "data": {
      "text/html": [
       "<table><tr><td>Parent</td><td>Category</td><td>Quality</td><td>Words</td><td>Relevance</td></tr><tr><td>C00</td><td>C01</td><td>0.0</td><td>['.']</td><td>[0]</td></tr><tr><td>C00</td><td>C02</td><td>0.0</td><td>['LEFT-WALL']</td><td>[0]</td></tr><tr><td>C00</td><td>C03</td><td>0.0</td><td>['bird', 'extremity', 'fish']</td><td>[0, 0, 0]</td></tr><tr><td>C00</td><td>C04</td><td>0.0</td><td>['eagle', 'herring', 'parrot', 'tuna']</td><td>[0, 0, 0, 0]</td></tr><tr><td>C00</td><td>C05</td><td>0.0</td><td>['feather', 'scale']</td><td>[0, 0]</td></tr><tr><td>C00</td><td>C06</td><td>0.0</td><td>['fin', 'wing']</td><td>[0, 0]</td></tr><tr><td>C00</td><td>C07</td><td>0.0</td><td>['has']</td><td>[0]</td></tr><tr><td>C00</td><td>C08</td><td>0.0</td><td>['isa']</td><td>[0]</td></tr></table>"
      ],
      "text/plain": [
       "<IPython.core.display.HTML object>"
      ]
     },
     "metadata": {},
     "output_type": "display_data"
    },
    {
     "name": "stdout",
     "output_type": "stream",
     "text": [
      "\n",
      "Category list - 8 lines, saved to /home/oleg/language-learning/output/POC-Turtle-6-Tests-2018-04-25/MST_fixed_manually/disjuncts-ILE-disjuncts_LW+dot+/8_categories.txt\n"
     ]
    },
    {
     "data": {
      "text/html": [
       "<table><tr><td>Cluster</td><td>Germs</td><td>L</td><td>R</td><td>Disjuncts</td></tr><tr><td>C01</td><td>['.']</td><td>[]</td><td>[]</td><td>['C03C01-', 'C05C01-', 'C06C01-']</td></tr><tr><td>C02</td><td>['LEFT-WALL']</td><td>[]</td><td>[]</td><td>['C02C04+', 'C02C06+']</td></tr><tr><td>C03</td><td>['bird', 'extremity', 'fish']</td><td>[]</td><td>[]</td><td>['C08C03- & C03C01+']</td></tr><tr><td>C04</td><td>['eagle', 'herring', 'parrot', 'tuna']</td><td>[]</td><td>[]</td><td>['C02C04- & C04C07+', 'C02C04- & C04C08+']</td></tr><tr><td>C05</td><td>['feather', 'scale']</td><td>[]</td><td>[]</td><td>['C07C05- & C05C01+']</td></tr><tr><td>C06</td><td>['fin', 'wing']</td><td>[]</td><td>[]</td><td>['C02C06- & C06C07+', 'C02C06- & C06C08+', 'C07C06- & C06C01+']</td></tr><tr><td>C07</td><td>['has']</td><td>[]</td><td>[]</td><td>['C04C07- & C07C06+', 'C06C07- & C07C05+']</td></tr><tr><td>C08</td><td>['isa']</td><td>[]</td><td>[]</td><td>['C04C08- & C08C03+', 'C06C08- & C08C03+']</td></tr></table>"
      ],
      "text/plain": [
       "<IPython.core.display.HTML object>"
      ]
     },
     "metadata": {},
     "output_type": "display_data"
    }
   ],
   "source": [
    "left_wall = 'LEFT-WALL'\n",
    "period = True\n",
    "subdir = 'disjuncts-ILE-disjuncts_LW+dot+/'\n",
    "prj_dir = batch_dir + 'MST_fixed_manually/' + subdir\n",
    "tmpath = prj_dir\n",
    "#-print(prj_dir)\n",
    "verbose = 'mid'\n",
    "rules = test_learn_grammar(input_dir, prj_dir, left_wall, period, \\\n",
    "    context, word_space, dim_reduction, clustering, grammar_rules, verbose)\n",
    "if verbose in ['min','none']: \n",
    "    print('LG rules file saved to ..'+rules.split('\\n')[-1][63:])"
   ]
  },
  {
   "cell_type": "code",
   "execution_count": 21,
   "metadata": {},
   "outputs": [
    {
     "name": "stdout",
     "output_type": "stream",
     "text": [
      "% Grammar Learner v.0.8 2018-04-25 06:18:48 UTC\n",
      "<dictionary-version-number>: V0v0v8+;\n",
      "<dictionary-locale>: EN4us+;\n",
      "\n",
      "% C01\n",
      "\".\":\n",
      "(C03C01-) or (C05C01-) or (C06C01-);\n",
      "\n",
      "% C02\n",
      "\"LEFT-WALL\":\n",
      "(C02C04+) or (C02C06+);\n",
      "\n",
      "% C03\n",
      "\"bird\" \"extremity\" \"fish\":\n",
      "(C08C03- & C03C01+);\n",
      "\n",
      "% C04\n",
      "\"eagle\" \"herring\" \"parrot\" \"tuna\":\n",
      "(C02C04- & C04C07+) or (C02C04- & C04C08+);\n",
      "\n",
      "% C05\n",
      "\"feather\" \"scale\":\n",
      "(C07C05- & C05C01+);\n",
      "\n",
      "% C06\n",
      "\"fin\" \"wing\":\n",
      "(C02C06- & C06C07+) or (C02C06- & C06C08+) or (C07C06- & C06C01+);\n",
      "\n",
      "% C07\n",
      "\"has\":\n",
      "(C04C07- & C07C06+) or (C06C07- & C07C05+);\n",
      "\n",
      "% C08\n",
      "\"isa\":\n",
      "(C04C08- & C08C03+) or (C06C08- & C08C03+);\n",
      "\n",
      "UNKNOWN-WORD: XXX+;\n",
      "\n",
      "% 8 word clusters, 8 Link Grammar rules.\n",
      "% Link Grammar file saved to: /home/oleg/language-learning/output/POC-Turtle-6-Tests-2018-04-25/MST_fixed_manually/disjuncts-ILE-disjuncts_LW+dot+/poc-turtle_8C_2018-04-25_0008.4.0.dict\n"
     ]
    }
   ],
   "source": [
    "if verbose not in ['none']: print(rules)"
   ]
  },
  {
   "cell_type": "markdown",
   "metadata": {},
   "source": [
    "## No LEFT-WALL, no period"
   ]
  },
  {
   "cell_type": "code",
   "execution_count": 22,
   "metadata": {},
   "outputs": [
    {
     "name": "stdout",
     "output_type": "stream",
     "text": [
      "13 unique words and 16 unique links form 31 unique word-link pairs from 36 parsed items\n",
      "Total 6 clusters of identical lexical entries <class 'pandas.core.frame.DataFrame'>\n"
     ]
    },
    {
     "data": {
      "text/html": [
       "<table><tr><td>Parent</td><td>Category</td><td>Quality</td><td>Words</td><td>Relevance</td></tr><tr><td>C00</td><td>C01</td><td>0.0</td><td>['bird', 'extremity', 'fish']</td><td>[0, 0, 0]</td></tr><tr><td>C00</td><td>C02</td><td>0.0</td><td>['eagle', 'herring', 'parrot', 'tuna']</td><td>[0, 0, 0, 0]</td></tr><tr><td>C00</td><td>C03</td><td>0.0</td><td>['feather', 'scale']</td><td>[0, 0]</td></tr><tr><td>C00</td><td>C04</td><td>0.0</td><td>['fin', 'wing']</td><td>[0, 0]</td></tr><tr><td>C00</td><td>C05</td><td>0.0</td><td>['has']</td><td>[0]</td></tr><tr><td>C00</td><td>C06</td><td>0.0</td><td>['isa']</td><td>[0]</td></tr></table>"
      ],
      "text/plain": [
       "<IPython.core.display.HTML object>"
      ]
     },
     "metadata": {},
     "output_type": "display_data"
    },
    {
     "name": "stdout",
     "output_type": "stream",
     "text": [
      "\n",
      "Category list - 6 lines, saved to /home/oleg/language-learning/output/POC-Turtle-6-Tests-2018-04-25/MST_fixed_manually/disjuncts-ILE-disjuncts_LW-dot-/6_categories.txt\n"
     ]
    },
    {
     "data": {
      "text/html": [
       "<table><tr><td>Cluster</td><td>Germs</td><td>L</td><td>R</td><td>Disjuncts</td></tr><tr><td>C01</td><td>['bird', 'extremity', 'fish']</td><td>[]</td><td>[]</td><td>['C06C01-']</td></tr><tr><td>C02</td><td>['eagle', 'herring', 'parrot', 'tuna']</td><td>[]</td><td>[]</td><td>['C02C05+', 'C02C06+']</td></tr><tr><td>C03</td><td>['feather', 'scale']</td><td>[]</td><td>[]</td><td>['C05C03-']</td></tr><tr><td>C04</td><td>['fin', 'wing']</td><td>[]</td><td>[]</td><td>['C04C05+', 'C04C06+', 'C05C04-']</td></tr><tr><td>C05</td><td>['has']</td><td>[]</td><td>[]</td><td>['C02C05- & C05C04+', 'C04C05- & C05C03+']</td></tr><tr><td>C06</td><td>['isa']</td><td>[]</td><td>[]</td><td>['C02C06- & C06C01+', 'C04C06- & C06C01+']</td></tr></table>"
      ],
      "text/plain": [
       "<IPython.core.display.HTML object>"
      ]
     },
     "metadata": {},
     "output_type": "display_data"
    }
   ],
   "source": [
    "context = 2                     # 1: connectors / 2+: 'dusjuncts'\n",
    "word_space = 'discrete'         # grouping identical context sets\n",
    "dim_reduction = 'none'          # grouping identical context sets\n",
    "clustering = 'group'            # grouping identical context sets\n",
    "grammar_rules = 2               # 1: connectors / 2+: 'dusjuncts'\n",
    "subdir = 'disjuncts-ILE-disjuncts_LW-dot-/'\n",
    "left_wall = ''\n",
    "period = False\n",
    "prj_dir = batch_dir + 'MST_fixed_manually/' + subdir\n",
    "tmpath = prj_dir\n",
    "#-print(prj_dir)\n",
    "verbose = 'mid'\n",
    "rules = test_learn_grammar(input_dir, prj_dir, left_wall, period, \\\n",
    "    context, word_space, dim_reduction, clustering, grammar_rules, verbose)\n",
    "if verbose in ['min','none']: \n",
    "    print('LG rules file saved to ..'+rules.split('\\n')[-1][63:])"
   ]
  },
  {
   "cell_type": "code",
   "execution_count": 23,
   "metadata": {},
   "outputs": [
    {
     "name": "stdout",
     "output_type": "stream",
     "text": [
      "% Grammar Learner v.0.8 2018-04-25 06:19:06 UTC\n",
      "<dictionary-version-number>: V0v0v8+;\n",
      "<dictionary-locale>: EN4us+;\n",
      "\n",
      "% C01\n",
      "\"bird\" \"extremity\" \"fish\":\n",
      "(C06C01-);\n",
      "\n",
      "% C02\n",
      "\"eagle\" \"herring\" \"parrot\" \"tuna\":\n",
      "(C02C05+) or (C02C06+);\n",
      "\n",
      "% C03\n",
      "\"feather\" \"scale\":\n",
      "(C05C03-);\n",
      "\n",
      "% C04\n",
      "\"fin\" \"wing\":\n",
      "(C04C05+) or (C04C06+) or (C05C04-);\n",
      "\n",
      "% C05\n",
      "\"has\":\n",
      "(C02C05- & C05C04+) or (C04C05- & C05C03+);\n",
      "\n",
      "% C06\n",
      "\"isa\":\n",
      "(C02C06- & C06C01+) or (C04C06- & C06C01+);\n",
      "\n",
      "UNKNOWN-WORD: XXX+;\n",
      "\n",
      "% 6 word clusters, 6 Link Grammar rules.\n",
      "% Link Grammar file saved to: /home/oleg/language-learning/output/POC-Turtle-6-Tests-2018-04-25/MST_fixed_manually/disjuncts-ILE-disjuncts_LW-dot-/poc-turtle_6C_2018-04-25_0008.4.0.dict\n"
     ]
    }
   ],
   "source": [
    "if verbose not in ['none']: print(rules)"
   ]
  },
  {
   "cell_type": "markdown",
   "metadata": {},
   "source": [
    "# Integration test «Disjuncts - DRK - disjuncts»  \n",
    "- Word space context terms - disjuncts;  \n",
    "- DRK - dimensionality reduction (SVM) and K-means clustering;  \n",
    "- Link Grammar rules based on disjuncts. - "
   ]
  },
  {
   "cell_type": "code",
   "execution_count": 28,
   "metadata": {},
   "outputs": [],
   "source": [
    "context = 2                 # 1: connectors / 2: disjuncts /\n",
    "word_space = 'vectors'      # 'vectors' - dimensionality reduction with SVM\n",
    "dim_reduction = 'svm'       # 'svm' / 'none' (discrete word_space, group)\n",
    "clustering = 'kmeans'       # 'kmeans' / 'group' / future options\n",
    "generalization = 'off'      # 'off' / future options: 'cosine', ...\n",
    "grammar_rules = 2           # 1: connectors / 2 - disjuncts\n",
    "verbose = 'mid'"
   ]
  },
  {
   "cell_type": "markdown",
   "metadata": {},
   "source": [
    "## LEFT-WALL and period (full stop)"
   ]
  },
  {
   "cell_type": "code",
   "execution_count": 29,
   "metadata": {},
   "outputs": [
    {
     "name": "stdout",
     "output_type": "stream",
     "text": [
      "15 unique words and 29 unique links form 44 unique word-link pairs from 60 parsed items\n"
     ]
    },
    {
     "data": {
      "image/png": "[encoded data removed]",
      "text/plain": [
       "<matplotlib.figure.Figure at 0x7fcdecf33da0>"
      ]
     },
     "metadata": {},
     "output_type": "display_data"
    },
    {
     "name": "stdout",
     "output_type": "stream",
     "text": [
      "Vector space dimensionality = 8\n",
      "Singular value (8) = 3.7\n",
      "Max singular value (1) = 5.6\n",
      "Singular value (8) = 3.7385588793217883e-10\n",
      "/poc03/category_learner: number of clusters = 4\n"
     ]
    },
    {
     "data": {
      "text/html": [
       "<table><tr><td>Parent</td><td>Category</td><td>Quality</td><td>Words</td><td>Relevance</td></tr><tr><td>C00</td><td>C01</td><td>0.0</td><td>['.', 'LEFT-WALL', 'has', 'isa']</td><td>[0, 0, 0, 0]</td></tr><tr><td>C00</td><td>C02</td><td>0.0</td><td>['eagle', 'herring', 'parrot', 'tuna']</td><td>[0, 0, 0, 0]</td></tr><tr><td>C00</td><td>C03</td><td>0.0</td><td>['bird', 'extremity', 'fish']</td><td>[0, 0, 0]</td></tr><tr><td>C00</td><td>C04</td><td>0.0</td><td>['feather', 'fin', 'scale', 'wing']</td><td>[0, 0, 0, 0]</td></tr></table>"
      ],
      "text/plain": [
       "<IPython.core.display.HTML object>"
      ]
     },
     "metadata": {},
     "output_type": "display_data"
    },
    {
     "name": "stdout",
     "output_type": "stream",
     "text": [
      "\n",
      "Category list - 4 lines, saved to /home/oleg/language-learning/output/POC-Turtle-6-Tests-2018-04-25/MST_fixed_manually/connectors-DRK-disjuncts_LW+dot+/4_categories.txt\n"
     ]
    },
    {
     "data": {
      "text/html": [
       "<table><tr><td>Cluster</td><td>Germs</td><td>L</td><td>R</td><td>Disjuncts</td></tr><tr><td>C01</td><td>['.', 'LEFT-WALL', 'has', 'isa']</td><td>[]</td><td>[]</td><td>['C01C02+', 'C01C04+', 'C02C01- & C01C03+', 'C02C01- & C01C04+', 'C03C01-', 'C04C01-', 'C04C01- & C01C03+', 'C04C01- & C01C04+']</td></tr><tr><td>C02</td><td>['eagle', 'herring', 'parrot', 'tuna']</td><td>[]</td><td>[]</td><td>['C01C02- & C02C01+']</td></tr><tr><td>C03</td><td>['bird', 'extremity', 'fish']</td><td>[]</td><td>[]</td><td>['C01C03- & C03C01+']</td></tr><tr><td>C04</td><td>['feather', 'fin', 'scale', 'wing']</td><td>[]</td><td>[]</td><td>['C01C04- & C04C01+']</td></tr></table>"
      ],
      "text/plain": [
       "<IPython.core.display.HTML object>"
      ]
     },
     "metadata": {},
     "output_type": "display_data"
    }
   ],
   "source": [
    "left_wall = 'LEFT-WALL'\n",
    "period = True\n",
    "subdir = 'connectors-DRK-disjuncts_LW+dot+'\n",
    "prj_dir = batch_dir + 'MST_fixed_manually/' + subdir\n",
    "tmpath = prj_dir\n",
    "#-print(prj_dir)\n",
    "rules = test_learn_grammar(input_dir, prj_dir, left_wall, period, \\\n",
    "    context, word_space, dim_reduction, clustering, grammar_rules, verbose)\n",
    "if verbose in ['min','none']:\n",
    "    print('LG rules file saved to ..'+rules.split('\\n')[-1][63:])"
   ]
  },
  {
   "cell_type": "code",
   "execution_count": 31,
   "metadata": {},
   "outputs": [
    {
     "name": "stdout",
     "output_type": "stream",
     "text": [
      "% Grammar Learner v.0.8 2018-04-25 06:19:57 UTC\n",
      "<dictionary-version-number>: V0v0v8+;\n",
      "<dictionary-locale>: EN4us+;\n",
      "\n",
      "% C01\n",
      "\".\" \"LEFT-WALL\" \"has\" \"isa\":\n",
      "(C01C02+) or (C01C04+) or (C02C01- & C01C03+) or (C02C01- & C01C04+) or (C03C01-) or (C04C01-) or (C04C01- & C01C03+) or (C04C01- & C01C04+);\n",
      "\n",
      "% C02\n",
      "\"eagle\" \"herring\" \"parrot\" \"tuna\":\n",
      "(C01C02- & C02C01+);\n",
      "\n",
      "% C03\n",
      "\"bird\" \"extremity\" \"fish\":\n",
      "(C01C03- & C03C01+);\n",
      "\n",
      "% C04\n",
      "\"feather\" \"fin\" \"scale\" \"wing\":\n",
      "(C01C04- & C04C01+);\n",
      "\n",
      "UNKNOWN-WORD: XXX+;\n",
      "\n",
      "% 4 word clusters, 4 Link Grammar rules.\n",
      "% Link Grammar file saved to: /home/oleg/language-learning/output/POC-Turtle-6-Tests-2018-04-25/MST_fixed_manually/connectors-DRK-disjuncts_LW+dot+/poc-turtle_4C_2018-04-25_0008.4.0.dict\n"
     ]
    }
   ],
   "source": [
    "if verbose not in ['none']: print(rules)"
   ]
  },
  {
   "cell_type": "markdown",
   "metadata": {},
   "source": [
    "## No LEFT-WALL, no period"
   ]
  },
  {
   "cell_type": "code",
   "execution_count": 34,
   "metadata": {},
   "outputs": [
    {
     "name": "stdout",
     "output_type": "stream",
     "text": [
      "13 unique words and 16 unique links form 31 unique word-link pairs from 36 parsed items\n"
     ]
    },
    {
     "data": {
      "image/png": "[encoded data removed]",
      "text/plain": [
       "<matplotlib.figure.Figure at 0x7fcdecd5a860>"
      ]
     },
     "metadata": {},
     "output_type": "display_data"
    },
    {
     "name": "stdout",
     "output_type": "stream",
     "text": [
      "Vector space dimensionality = 2\n",
      "Singular value (2) = 4.4\n",
      "Max singular value (1) = 4.4\n",
      "All singular values within relevance interval - more than 0.1 of max singular value\n",
      "/poc03/category_learner: number of clusters = 4\n"
     ]
    },
    {
     "data": {
      "text/html": [
       "<table><tr><td>Parent</td><td>Category</td><td>Quality</td><td>Words</td><td>Relevance</td></tr><tr><td>C00</td><td>C01</td><td>0.0</td><td>['eagle', 'fin', 'herring', 'parrot', 'tuna', 'wing']</td><td>[0, 0, 0, 0, 0, 0]</td></tr><tr><td>C00</td><td>C02</td><td>0.0</td><td>['isa']</td><td>[0]</td></tr><tr><td>C00</td><td>C03</td><td>0.0</td><td>['feather', 'has', 'scale']</td><td>[0, 0, 0]</td></tr><tr><td>C00</td><td>C04</td><td>0.0</td><td>['bird', 'extremity', 'fish']</td><td>[0, 0, 0]</td></tr></table>"
      ],
      "text/plain": [
       "<IPython.core.display.HTML object>"
      ]
     },
     "metadata": {},
     "output_type": "display_data"
    },
    {
     "name": "stdout",
     "output_type": "stream",
     "text": [
      "\n",
      "Category list - 4 lines, saved to /home/oleg/language-learning/output/POC-Turtle-6-Tests-2018-04-25/MST_fixed_manually/connectors-DRK-disjuncts_LW-dot-/4_categories.txt\n"
     ]
    },
    {
     "data": {
      "text/html": [
       "<table><tr><td>Cluster</td><td>Germs</td><td>L</td><td>R</td><td>Disjuncts</td></tr><tr><td>C01</td><td>['eagle', 'fin', 'herring', 'parrot', 'tuna', 'wing']</td><td>[]</td><td>[]</td><td>['C01C02+', 'C01C03+', 'C03C01-']</td></tr><tr><td>C02</td><td>['isa']</td><td>[]</td><td>[]</td><td>['C01C02- & C02C04+']</td></tr><tr><td>C03</td><td>['feather', 'has', 'scale']</td><td>[]</td><td>[]</td><td>['C01C03- & C03C01+', 'C01C03- & C03C03+', 'C03C03-']</td></tr><tr><td>C04</td><td>['bird', 'extremity', 'fish']</td><td>[]</td><td>[]</td><td>['C02C04-']</td></tr></table>"
      ],
      "text/plain": [
       "<IPython.core.display.HTML object>"
      ]
     },
     "metadata": {},
     "output_type": "display_data"
    }
   ],
   "source": [
    "left_wall = ''\n",
    "period = False\n",
    "subdir = 'connectors-DRK-disjuncts_LW-dot-/'\n",
    "prj_dir = batch_dir + 'MST_fixed_manually/' + subdir\n",
    "tmpath = prj_dir\n",
    "#-print(prj_dir)\n",
    "verbose = 'mid'\n",
    "rules = test_learn_grammar(input_dir, prj_dir, left_wall, period, \\\n",
    "    context, word_space, dim_reduction, clustering, grammar_rules, verbose)\n",
    "if verbose in ['min','none']:\n",
    "    print('LG rules file saved to ..'+rules.split('\\n')[-1][63:])"
   ]
  },
  {
   "cell_type": "code",
   "execution_count": 35,
   "metadata": {},
   "outputs": [
    {
     "name": "stdout",
     "output_type": "stream",
     "text": [
      "% Grammar Learner v.0.8 2018-04-25 06:24:25 UTC\n",
      "<dictionary-version-number>: V0v0v8+;\n",
      "<dictionary-locale>: EN4us+;\n",
      "\n",
      "% C01\n",
      "\"eagle\" \"fin\" \"herring\" \"parrot\" \"tuna\" \"wing\":\n",
      "(C01C02+) or (C01C03+) or (C03C01-);\n",
      "\n",
      "% C02\n",
      "\"isa\":\n",
      "(C01C02- & C02C04+);\n",
      "\n",
      "% C03\n",
      "\"feather\" \"has\" \"scale\":\n",
      "(C01C03- & C03C01+) or (C01C03- & C03C03+) or (C03C03-);\n",
      "\n",
      "% C04\n",
      "\"bird\" \"extremity\" \"fish\":\n",
      "(C02C04-);\n",
      "\n",
      "UNKNOWN-WORD: XXX+;\n",
      "\n",
      "% 4 word clusters, 4 Link Grammar rules.\n",
      "% Link Grammar file saved to: /home/oleg/language-learning/output/POC-Turtle-6-Tests-2018-04-25/MST_fixed_manually/connectors-DRK-disjuncts_LW-dot-/poc-turtle_4C_2018-04-25_0008.4.0.dict\n"
     ]
    }
   ],
   "source": [
    "if verbose not in ['none']: print(rules)"
   ]
  }
 ],
 "metadata": {
  "kernelspec": {
   "display_name": "Python [conda env:ull3]",
   "language": "python",
   "name": "conda-env-ull3-py"
  },
  "language_info": {
   "codemirror_mode": {
    "name": "ipython",
    "version": 3
   },
   "file_extension": ".py",
   "mimetype": "text/x-python",
   "name": "python",
   "nbconvert_exporter": "python",
   "pygments_lexer": "ipython3",
   "version": "3.6.4"
  },
  "toc": {
   "nav_menu": {},
   "number_sections": true,
   "sideBar": true,
   "skip_h1_title": false,
   "title_cell": "Table of Contents",
   "title_sidebar": "Contents",
   "toc_cell": false,
   "toc_position": {},
   "toc_section_display": true,
   "toc_window_display": false
  }
 },
 "nbformat": 4,
 "nbformat_minor": 2
}
