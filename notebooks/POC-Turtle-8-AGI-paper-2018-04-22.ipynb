{
 "cells": [
  {
   "cell_type": "markdown",
   "metadata": {},
   "source": [
    "# POC-Turtle-8: Test MST-parses `2018-04-22`\n",
    "\n",
    "Data for AGI-2018 paper: learn grammar with various Grammar Learner settings using various parses of \"POC-English-NoAmb\" corpus.\n",
    "\n",
    "## Grammar Learner POC.0.3: \n",
    "- Separate category learning and grammar learning,\n",
    "- Clustering option: grouping identical contexts (former \"Identical Lexical Entries\" branch,\n",
    "- Link Grammar rules based on connector sets (\"relaxed rules\") or disjunct sets (\"strict rules\");  \n",
    "\n",
    "Tests: \"POC-Turtle\" corpus: [http://88.99.210.144/data/clustering_2018/data/POC_Turtle/](http://88.99.210.144/data/clustering_2018/data/POC_Turtle/);  \n",
    "Test results: [http://88.99.210.144/data/clustering_2018/AGI-2018/POC-Turtle/](http://88.99.210.144/data/clustering_2018/AGI-2018/POC-Turtle/).  \n",
    "\n",
    "A static html copy of this notebook is shared via  \n",
    "[http://88.99.210.144/data/clustering_2018/html/POC-Turtle-8-Test-MST-parses.html](http://88.99.210.144/data/clustering_2018/html/POC-Turtle-8-Test-MST-parses.html)"
   ]
  },
  {
   "cell_type": "markdown",
   "metadata": {},
   "source": [
    "## Basic settings"
   ]
  },
  {
   "cell_type": "code",
   "execution_count": 1,
   "metadata": {},
   "outputs": [
    {
     "name": "stdout",
     "output_type": "stream",
     "text": [
      "Baseline dataset:\n",
      "- /home/oleg/language-learning/data/POC-Turtle/MST_fixed_manually/\n",
      "Input data directory structure (input_batch subdirs):\n",
      "- /home/oleg/language-learning/data/POC-Turtle/LG_ANY_all_parses\n",
      "- /home/oleg/language-learning/data/POC-Turtle/MST_fixed_manually\n",
      "- /home/oleg/language-learning/data/POC-Turtle/R=6_Weight=1\n",
      "- /home/oleg/language-learning/data/POC-Turtle/R=6_Weight=6:R\n",
      "Output data directory (out_dir):\n",
      "- /home/oleg/language-learning/output/AGI-2018-paper-data-2018-04-22/\n",
      "2018-04-22 17:33:50 UTC\n"
     ]
    }
   ],
   "source": [
    "import os, sys, time\n",
    "import numpy as np\n",
    "import pandas as pd\n",
    "import matplotlib.pyplot as plt\n",
    "%matplotlib inline\n",
    "from IPython.display import display\n",
    "module_path = os.path.abspath(os.path.join('..'))\n",
    "if module_path not in sys.path: sys.path.append(module_path)\n",
    "from src.utl.utl import UTC\n",
    "from src.utl.read_files import check_dir\n",
    "from src.grammar_learner.poc03 import learn_grammar\n",
    "\n",
    "input_dir = module_path + '/data/POC-Turtle/MST_fixed_manually/'\n",
    "print('Baseline dataset:\\n-', input_dir)\n",
    "input_batch = module_path + '/data/POC-Turtle/'\n",
    "dirs = sorted([x[0] for x in os.walk(input_batch)])[1:]\n",
    "print('Input data directory structure (input_batch subdirs):')\n",
    "for d in dirs: print('-',d)\n",
    "out_dir = module_path + '/output/AGI-2018-paper-data-' + str(UTC())[:10] + '/'\n",
    "print('Output data directory (out_dir):\\n-', out_dir)\n",
    "prefix = '' # unused option\n",
    "tmpath = module_path + '/tmp/'\n",
    "check_dir(tmpath, True, 'none')\n",
    "print(UTC())"
   ]
  },
  {
   "cell_type": "markdown",
   "metadata": {},
   "source": [
    "## Grammar Learner test call, parameters"
   ]
  },
  {
   "cell_type": "code",
   "execution_count": 2,
   "metadata": {},
   "outputs": [
    {
     "name": "stdout",
     "output_type": "stream",
     "text": [
      "2018-04-22 17:33:50 UTC\n"
     ]
    }
   ],
   "source": [
    "def test_learn_grammar(input_dir, prj_dir, left_wall, period, context, word_space, \\\n",
    "                       dim_reduction, clustering, grammar_rules, \\\n",
    "                       verbose = 'none'):\n",
    "    # Directory to read parse files (1 to many input files)\n",
    "    #-input_dir = module_path + '/data/POC_Turtle/mst_fixed_manually/'\n",
    "    # Paths to store learned categories, learned dictionary Link Grammar file\n",
    "    if check_dir(prj_dir, create=True, verbose='none'):\n",
    "        cat_path = prj_dir  # Path to store learned categories\n",
    "        dict_path = prj_dir # Path to store learned dictionary Link Grammar file\n",
    "    # Settings:\n",
    "    parse_mode = 'given'        # 'given' (default) / 'explosive' (next)\n",
    "    #^left_wall = 'LEFT-WALL'     # '','none' / 'ABC' - replace ###LEFT-WALL### with ABC\n",
    "    #^period = True               # use period in links learning: True/False\n",
    "    #^context = 1                 # 1: connectors / 0: 'words' /\n",
    "    #^context = 2               # 2,3...: disjuncts with limited number of links\n",
    "    window = 'mst'              # 'mst' / reserved options for «explosive» parsing\n",
    "    weighting = 'ppmi'          # 'ppmi' / future options\n",
    "    group = True                # group items after link parsing, sum counts \n",
    "    #^word_space = 'vectors'      # 'vectors' - dimensionality reduction with SVM\n",
    "    #^word_space = 'discrete'     #  'discrete' - no dimensionality reduction\n",
    "    dim_max = 100               # max vector space dimensionality\n",
    "    sv_min = 0.1                # minimal singular value (fraction of the max value)\n",
    "    #^dim_reduction = 'svm'     # 'svm' / 'none' (discrete word_space, group)\n",
    "    #^dim_reduction = 'none'\n",
    "    #^clustering = 'kmeans'     # 'kmeans' / 'group' / future options\n",
    "    #^clustering = 'group'      # grouping identical lexical entries\n",
    "    cluster_range = (2,48,1)    # min, max, step\n",
    "    cluster_criteria = 'silhouette'\n",
    "    #-cluster_level = 0.9       # level = 0, 1, 0.-0.99..: 0 - max number of clusters\n",
    "    cluster_level = 1           # 2018-04-21: strict max\n",
    "    generalization = 'off'      # 'off' / future options: 'cosine', ...\n",
    "    merge = 0.8                 # merge clusters with similarity > this 'merge' criteria\n",
    "    aggregate = 0.2             # agglomerate clusters with similarity > this criteria\n",
    "    #^grammar_rules = 2           # 1: 'connectors' / 2 - 'disjuncts' / 0 - 'words' (TODO?)\n",
    "    #^verbose='mid'               # 'none', 'min', 'mid', 'max'\n",
    "    \n",
    "    lg_rules = learn_grammar(input_dir, cat_path, dict_path, tmpath, verbose, \\\n",
    "        parse_mode, left_wall, period, context, window, weighting, group, \\\n",
    "        word_space, dim_max, sv_min, dim_reduction, \\\n",
    "        clustering, cluster_range, cluster_criteria, cluster_level,\n",
    "        generalization, merge, aggregate, grammar_rules)\n",
    "    \n",
    "    return lg_rules  # .dict ⇒ string\n",
    "\n",
    "print(UTC())"
   ]
  },
  {
   "cell_type": "markdown",
   "metadata": {},
   "source": [
    "# LEFT-WALL and period"
   ]
  },
  {
   "cell_type": "code",
   "execution_count": 3,
   "metadata": {},
   "outputs": [
    {
     "name": "stdout",
     "output_type": "stream",
     "text": [
      "Output data directory (batch_dir): /home/oleg/language-learning/output/AGI-2018-paper-data-2018-04-22/POC-Turtle-LEFT-WALL+period/\n"
     ]
    }
   ],
   "source": [
    "left_wall = 'LEFT-WALL'\n",
    "period = True\n",
    "verbose = 'none'\n",
    "batch_dir = out_dir + 'POC-Turtle-LEFT-WALL+period/'\n",
    "print('Output data directory (batch_dir):', batch_dir)"
   ]
  },
  {
   "cell_type": "markdown",
   "metadata": {},
   "source": [
    "## «Connectors-DRK-disjuncts», MST_fixed dataset, detailed\n",
    "- Word space context terms - connectors;  \n",
    "- DRK - dimensionality reduction (SVM) and K-means clustering;  \n",
    "- Link Grammar rules based on disjuncts."
   ]
  },
  {
   "cell_type": "code",
   "execution_count": 4,
   "metadata": {},
   "outputs": [
    {
     "name": "stdout",
     "output_type": "stream",
     "text": [
      "15 unique words and 28 unique links form 64 unique word-link pairs from 64 parsed items\n"
     ]
    },
    {
     "data": {
      "image/png": "[encoded data removed]",
      "text/plain": [
       "<matplotlib.figure.Figure at 0x7f3b26c8de48>"
      ]
     },
     "metadata": {},
     "output_type": "display_data"
    },
    {
     "name": "stdout",
     "output_type": "stream",
     "text": [
      "Vector space dimensionality = 7\n",
      "Singular value (7) = 3.4\n",
      "Max singular value (1) = 5.6\n",
      "Singular value (7) = 0.19275911971807783\n",
      "/poc03/category_learner: number of clusters = 6\n"
     ]
    },
    {
     "data": {
      "text/html": [
       "<table><tr><td>Parent</td><td>Category</td><td>Quality</td><td>Words</td><td>Relevance</td></tr><tr><td>C00</td><td>C01</td><td>0.0</td><td>['has', 'isa']</td><td>[0, 0]</td></tr><tr><td>C00</td><td>C02</td><td>0.0</td><td>['.']</td><td>[0]</td></tr><tr><td>C00</td><td>C03</td><td>0.0</td><td>['LEFT-WALL']</td><td>[0]</td></tr><tr><td>C00</td><td>C04</td><td>0.0</td><td>['bird', 'extremity', 'fish']</td><td>[0, 0, 0]</td></tr><tr><td>C00</td><td>C05</td><td>0.0</td><td>['feather', 'fin', 'scale', 'wing']</td><td>[0, 0, 0, 0]</td></tr><tr><td>C00</td><td>C06</td><td>0.0</td><td>['eagle', 'herring', 'parrot', 'tuna']</td><td>[0, 0, 0, 0]</td></tr></table>"
      ],
      "text/plain": [
       "<IPython.core.display.HTML object>"
      ]
     },
     "metadata": {},
     "output_type": "display_data"
    },
    {
     "name": "stdout",
     "output_type": "stream",
     "text": [
      "\n",
      "Category list - 6 lines, saved to /home/oleg/language-learning/output/AGI-2018-paper-data-2018-04-22/POC-Turtle-LEFT-WALL+period/MST_fixed_manually/connectors-DRK-disjuncts/6_categories.txt\n",
      "15 unique words and 29 unique links form 44 unique word-link pairs from 60 parsed items\n"
     ]
    },
    {
     "data": {
      "text/html": [
       "<table><tr><td>Cluster</td><td>Germs</td><td>L</td><td>R</td><td>Disjuncts</td></tr><tr><td>C01</td><td>['has', 'isa']</td><td>[]</td><td>[]</td><td>['C05C01- & C01C04+', 'C05C01- & C01C05+', 'C06C01- & C01C04+', 'C06C01- & C01C05+']</td></tr><tr><td>C02</td><td>['.']</td><td>[]</td><td>[]</td><td>['C04C02-', 'C05C02-']</td></tr><tr><td>C03</td><td>['LEFT-WALL']</td><td>[]</td><td>[]</td><td>['C03C05+', 'C03C06+']</td></tr><tr><td>C04</td><td>['bird', 'extremity', 'fish']</td><td>[]</td><td>[]</td><td>['C01C04- & C04C02+']</td></tr><tr><td>C05</td><td>['feather', 'fin', 'scale', 'wing']</td><td>[]</td><td>[]</td><td>['C01C05- & C05C02+', 'C03C05- & C05C01+']</td></tr><tr><td>C06</td><td>['eagle', 'herring', 'parrot', 'tuna']</td><td>[]</td><td>[]</td><td>['C03C06- & C06C01+']</td></tr></table>"
      ],
      "text/plain": [
       "<IPython.core.display.HTML object>"
      ]
     },
     "metadata": {},
     "output_type": "display_data"
    }
   ],
   "source": [
    "context = 1                 # 1: connectors / 2: disjuncts /\n",
    "word_space = 'vectors'      # 'vectors' - dimensionality reduction with SVM\n",
    "dim_reduction = 'svm'       # 'svm' / 'none' (discrete word_space, group)\n",
    "clustering = 'kmeans'       # 'kmeans' / 'group' / future options\n",
    "generalization = 'off'      # 'off' / future options: 'cosine', ...\n",
    "grammar_rules = 2           # 1: connectors / 2 - disjuncts\n",
    "verbose = 'mid'\n",
    "subdir = 'connectors-DRK-disjuncts/'\n",
    "prj_dir = batch_dir + 'MST_fixed_manually/' + subdir\n",
    "#-print(prj_dir)\n",
    "lg_rules = test_learn_grammar(input_dir, prj_dir, left_wall, period, \\\n",
    "    context, word_space, dim_reduction, clustering, grammar_rules, verbose)"
   ]
  },
  {
   "cell_type": "code",
   "execution_count": 5,
   "metadata": {},
   "outputs": [
    {
     "name": "stdout",
     "output_type": "stream",
     "text": [
      "LG rules file saved to ..ut/AGI-2018-paper-data-2018-04-22/POC-Turtle-LEFT-WALL+period/MST_fixed_manually/connectors-DRK-disjuncts/poc-turtle_6C_2018-04-22_0008.4.0.dict\n"
     ]
    }
   ],
   "source": [
    "print('LG rules file saved to ..' + lg_rules.split('\\n')[-1][63:])"
   ]
  },
  {
   "cell_type": "code",
   "execution_count": 6,
   "metadata": {},
   "outputs": [
    {
     "name": "stdout",
     "output_type": "stream",
     "text": [
      "% Grammar Learner v.0.8 2018-04-22 17:33:52 UTC\n",
      "<dictionary-version-number>: V0v0v8+;\n",
      "<dictionary-locale>: EN4us+;\n",
      "\n",
      "% C01\n",
      "\"has\" \"isa\":\n",
      "(C05C01- & C01C04+) or (C05C01- & C01C05+) or (C06C01- & C01C04+) or (C06C01- & C01C05+);\n",
      "\n",
      "% C02\n",
      "\".\":\n",
      "(C04C02-) or (C05C02-);\n",
      "\n",
      "% C03\n",
      "\"LEFT-WALL\":\n",
      "(C03C05+) or (C03C06+);\n",
      "\n",
      "% C04\n",
      "\"bird\" \"extremity\" \"fish\":\n",
      "(C01C04- & C04C02+);\n",
      "\n",
      "% C05\n",
      "\"feather\" \"fin\" \"scale\" \"wing\":\n",
      "(C01C05- & C05C02+) or (C03C05- & C05C01+);\n",
      "\n",
      "% C06\n",
      "\"eagle\" \"herring\" \"parrot\" \"tuna\":\n",
      "(C03C06- & C06C01+);\n",
      "\n",
      "UNKNOWN-WORD: XXX+;\n",
      "\n",
      "% 6 word clusters, 6 Link Grammar rules.\n",
      "% Link Grammar file saved to: /home/oleg/language-learning/output/AGI-2018-paper-data-2018-04-22/POC-Turtle-LEFT-WALL+period/MST_fixed_manually/connectors-DRK-disjuncts/poc-turtle_6C_2018-04-22_0008.4.0.dict\n"
     ]
    }
   ],
   "source": [
    "print(lg_rules)"
   ]
  },
  {
   "cell_type": "markdown",
   "metadata": {},
   "source": [
    "## «Connectors - DRK - connectors/disjuncts», batch mode"
   ]
  },
  {
   "cell_type": "code",
   "execution_count": 7,
   "metadata": {
    "scrolled": true
   },
   "outputs": [
    {
     "name": "stdout",
     "output_type": "stream",
     "text": [
      "Link Grammar rule files saved to\n",
      "/AGI-2018-paper-data-2018-04-22/POC-Turtle-LEFT-WALL+period/:\n",
      "\n",
      "./LG_ANY_all_parses/connectors-DRK-connectors/poc-turtle_6C_2018-04-22_0008.4.0.dict\n",
      "./LG_ANY_all_parses/connectors-DRK-disjuncts/poc-turtle_6C_2018-04-22_0008.4.0.dict\n",
      "\n",
      "./MST_fixed_manually/connectors-DRK-connectors/poc-turtle_6C_2018-04-22_0008.4.0.dict\n",
      "./MST_fixed_manually/connectors-DRK-disjuncts/poc-turtle_6C_2018-04-22_0008.4.0.dict\n",
      "\n",
      "Clusters: [7, 7, 7, 7, 8, 8, 8, 8, 8, 8, 8, 8] ⇒ 8\n",
      "./R=6_Weight=1/connectors-DRK-connectors/poc-turtle_8C_2018-04-22_0008.4.0.dict\n",
      "Clusters: [7, 7, 7, 7, 7, 7, 7, 7, 8, 8, 8, 9] ⇒ 7\n",
      "./R=6_Weight=1/connectors-DRK-disjuncts/poc-turtle_7C_2018-04-22_0008.4.0.dict\n",
      "\n",
      "./R=6_Weight=6:R/connectors-DRK-connectors/poc-turtle_6C_2018-04-22_0008.4.0.dict\n",
      "./R=6_Weight=6:R/connectors-DRK-disjuncts/poc-turtle_6C_2018-04-22_0008.4.0.dict\n"
     ]
    }
   ],
   "source": [
    "left_wall = 'LEFT-WALL'\n",
    "period = True\n",
    "context = 1\n",
    "grammar_rules = 2\n",
    "word_space = 'vectors'\n",
    "dim_reduction = 'svm'\n",
    "clustering = 'kmeans'\n",
    "generalization = 'off'\n",
    "verbose = 'none'\n",
    "print('Link Grammar rule files saved to\\n' + batch_dir[35:] + ':')\n",
    "for d in dirs:\n",
    "    for i,context in enumerate(['connectors']):\n",
    "        print('')\n",
    "        for j,rules in enumerate(['connectors', 'disjuncts']):\n",
    "            prj_dir = batch_dir + d[d.rfind('/')+1:] + '/'+context+'-DRK-'+rules+'/'\n",
    "            lg_rules = test_learn_grammar(d, prj_dir, left_wall, period, i+1, \\\n",
    "                word_space, dim_reduction, clustering, j+1, verbose)\n",
    "            print('.'+lg_rules.split('\\n')[-1][124:])"
   ]
  },
  {
   "cell_type": "markdown",
   "metadata": {},
   "source": [
    "## «Disjuncts - DRK - disjuncts/connectors», MST_fixed dataset\n",
    "Other datasets cause SVM error"
   ]
  },
  {
   "cell_type": "code",
   "execution_count": 8,
   "metadata": {},
   "outputs": [
    {
     "name": "stdout",
     "output_type": "stream",
     "text": [
      "Link Grammar rule files saved to\n",
      "/AGI-2018-paper-data-2018-04-22/POC-Turtle-LEFT-WALL+period/:\n",
      "Clusters: [4, 4, 4, 4, 4, 4, 4, 4, 4, 4, 4, 5] ⇒ 4\n",
      "./MST_fixed_manually/disjuncts-DRK-connectors/poc-turtle_4C_2018-04-22_0008.4.0.dict\n",
      "Clusters: [4, 4, 4, 4, 4, 4, 4, 4, 4, 4, 4, 5] ⇒ 4\n",
      "./MST_fixed_manually/disjuncts-DRK-disjuncts/poc-turtle_4C_2018-04-22_0008.4.0.dict\n"
     ]
    }
   ],
   "source": [
    "d = input_batch+'MST_fixed_manually'\n",
    "i = 2\n",
    "context = 'disjuncts'\n",
    "verbose = 'none'\n",
    "print('Link Grammar rule files saved to\\n' + batch_dir[35:] + ':')\n",
    "for j,rules in enumerate(['connectors', 'disjuncts']):\n",
    "    prj_dir = batch_dir + d[d.rfind('/')+1:] + '/'+context+'-DRK-'+rules+'/'\n",
    "    lg_rules = test_learn_grammar(d, prj_dir, left_wall, period, i+1, \\\n",
    "        word_space, dim_reduction, clustering, j+1, verbose)\n",
    "    print('.'+lg_rules.split('\\n')[-1][124:])"
   ]
  },
  {
   "cell_type": "markdown",
   "metadata": {},
   "source": [
    "## «Disjuncts - ILE - disjuncts», MST fixed manually, detailed\n",
    "- Word space terms - disjuncts;  \n",
    "- ILE - grouping identical lexical entries;  \n",
    "- Link Grammar rules based on disjuncts."
   ]
  },
  {
   "cell_type": "code",
   "execution_count": 9,
   "metadata": {},
   "outputs": [
    {
     "name": "stdout",
     "output_type": "stream",
     "text": [
      "15 unique words and 29 unique links form 44 unique word-link pairs from 60 parsed items\n",
      "Total 8 clusters of identical lexical entries <class 'pandas.core.frame.DataFrame'>\n"
     ]
    },
    {
     "data": {
      "text/html": [
       "<table><tr><td>Parent</td><td>Category</td><td>Quality</td><td>Words</td><td>Relevance</td></tr><tr><td>C00</td><td>C01</td><td>0.0</td><td>['.']</td><td>[0]</td></tr><tr><td>C00</td><td>C02</td><td>0.0</td><td>['LEFT-WALL']</td><td>[0]</td></tr><tr><td>C00</td><td>C03</td><td>0.0</td><td>['bird', 'extremity', 'fish']</td><td>[0, 0, 0]</td></tr><tr><td>C00</td><td>C04</td><td>0.0</td><td>['eagle', 'herring', 'parrot', 'tuna']</td><td>[0, 0, 0, 0]</td></tr><tr><td>C00</td><td>C05</td><td>0.0</td><td>['feather', 'scale']</td><td>[0, 0]</td></tr><tr><td>C00</td><td>C06</td><td>0.0</td><td>['fin', 'wing']</td><td>[0, 0]</td></tr><tr><td>C00</td><td>C07</td><td>0.0</td><td>['has']</td><td>[0]</td></tr><tr><td>C00</td><td>C08</td><td>0.0</td><td>['isa']</td><td>[0]</td></tr></table>"
      ],
      "text/plain": [
       "<IPython.core.display.HTML object>"
      ]
     },
     "metadata": {},
     "output_type": "display_data"
    },
    {
     "name": "stdout",
     "output_type": "stream",
     "text": [
      "\n",
      "Category list - 8 lines, saved to /home/oleg/language-learning/output/AGI-2018-paper-data-2018-04-22/POC-Turtle-LEFT-WALL+period/MST_fixed_manually/disjuncts-ILE-disjuncts/8_categories.txt\n"
     ]
    },
    {
     "data": {
      "text/html": [
       "<table><tr><td>Cluster</td><td>Germs</td><td>L</td><td>R</td><td>Disjuncts</td></tr><tr><td>C01</td><td>['.']</td><td>[]</td><td>[]</td><td>['C03C01-', 'C05C01-', 'C06C01-']</td></tr><tr><td>C02</td><td>['LEFT-WALL']</td><td>[]</td><td>[]</td><td>['C02C04+', 'C02C06+']</td></tr><tr><td>C03</td><td>['bird', 'extremity', 'fish']</td><td>[]</td><td>[]</td><td>['C08C03- & C03C01+']</td></tr><tr><td>C04</td><td>['eagle', 'herring', 'parrot', 'tuna']</td><td>[]</td><td>[]</td><td>['C02C04- & C04C07+', 'C02C04- & C04C08+']</td></tr><tr><td>C05</td><td>['feather', 'scale']</td><td>[]</td><td>[]</td><td>['C07C05- & C05C01+']</td></tr><tr><td>C06</td><td>['fin', 'wing']</td><td>[]</td><td>[]</td><td>['C02C06- & C06C07+', 'C02C06- & C06C08+', 'C07C06- & C06C01+']</td></tr><tr><td>C07</td><td>['has']</td><td>[]</td><td>[]</td><td>['C04C07- & C07C06+', 'C06C07- & C07C05+']</td></tr><tr><td>C08</td><td>['isa']</td><td>[]</td><td>[]</td><td>['C04C08- & C08C03+', 'C06C08- & C08C03+']</td></tr></table>"
      ],
      "text/plain": [
       "<IPython.core.display.HTML object>"
      ]
     },
     "metadata": {},
     "output_type": "display_data"
    },
    {
     "name": "stdout",
     "output_type": "stream",
     "text": [
      "LG rules file saved to ../AGI-2018-paper-data-2018-04-22/POC-Turtle-LEFT-WALL+period/MST_fixed_manually/disjuncts-ILE-disjuncts/poc-turtle_8C_2018-04-22_0008.4.0.dict\n"
     ]
    }
   ],
   "source": [
    "context = 2                 # 1: connectors / 2+: 'dusjuncts'\n",
    "word_space = 'discrete'     # grouping identical context sets\n",
    "dim_reduction = 'none'      # grouping identical context sets\n",
    "clustering = 'group'        # grouping identical context sets\n",
    "grammar_rules = 2           # 1: connectors / 2+: 'dusjuncts'\n",
    "subdir = 'disjuncts-ILE-disjuncts/'\n",
    "verbose = 'mid'\n",
    "prj_dir = batch_dir + 'MST_fixed_manually/' + subdir\n",
    "lg_rules = test_learn_grammar(input_dir, prj_dir, left_wall, period, \\\n",
    "    context, word_space, dim_reduction, clustering, grammar_rules, verbose)\n",
    "print('LG rules file saved to ..' + lg_rules.split('\\n')[-1][65:])"
   ]
  },
  {
   "cell_type": "code",
   "execution_count": 10,
   "metadata": {},
   "outputs": [
    {
     "name": "stdout",
     "output_type": "stream",
     "text": [
      "% Grammar Learner v.0.8 2018-04-22 17:34:14 UTC\n",
      "<dictionary-version-number>: V0v0v8+;\n",
      "<dictionary-locale>: EN4us+;\n",
      "\n",
      "% C01\n",
      "\".\":\n",
      "(C03C01-) or (C05C01-) or (C06C01-);\n",
      "\n",
      "% C02\n",
      "\"LEFT-WALL\":\n",
      "(C02C04+) or (C02C06+);\n",
      "\n",
      "% C03\n",
      "\"bird\" \"extremity\" \"fish\":\n",
      "(C08C03- & C03C01+);\n",
      "\n",
      "% C04\n",
      "\"eagle\" \"herring\" \"parrot\" \"tuna\":\n",
      "(C02C04- & C04C07+) or (C02C04- & C04C08+);\n",
      "\n",
      "% C05\n",
      "\"feather\" \"scale\":\n",
      "(C07C05- & C05C01+);\n",
      "\n",
      "% C06\n",
      "\"fin\" \"wing\":\n",
      "(C02C06- & C06C07+) or (C02C06- & C06C08+) or (C07C06- & C06C01+);\n",
      "\n",
      "% C07\n",
      "\"has\":\n",
      "(C04C07- & C07C06+) or (C06C07- & C07C05+);\n",
      "\n",
      "% C08\n",
      "\"isa\":\n",
      "(C04C08- & C08C03+) or (C06C08- & C08C03+);\n",
      "\n",
      "UNKNOWN-WORD: XXX+;\n",
      "\n",
      "% 8 word clusters, 8 Link Grammar rules.\n",
      "% Link Grammar file saved to: /home/oleg/language-learning/output/AGI-2018-paper-data-2018-04-22/POC-Turtle-LEFT-WALL+period/MST_fixed_manually/disjuncts-ILE-disjuncts/poc-turtle_8C_2018-04-22_0008.4.0.dict\n"
     ]
    }
   ],
   "source": [
    "print(lg_rules)"
   ]
  },
  {
   "cell_type": "markdown",
   "metadata": {},
   "source": [
    "## \"Disjuncts - ILE - Disjuncts\", batch mode"
   ]
  },
  {
   "cell_type": "code",
   "execution_count": 11,
   "metadata": {},
   "outputs": [
    {
     "name": "stdout",
     "output_type": "stream",
     "text": [
      "Link Grammar rule files saved to\n",
      "/AGI-2018-paper-data-2018-04-22/POC-Turtle-LEFT-WALL+period/:\n",
      "./LG_ANY_all_parses/disjuncts-ILE-disjuncts/poc-turtle_10C_2018-04-22_0008.4.0.dict\n",
      "./MST_fixed_manually/disjuncts-ILE-disjuncts/poc-turtle_8C_2018-04-22_0008.4.0.dict\n",
      "./R=6_Weight=1/disjuncts-ILE-disjuncts/poc-turtle_13C_2018-04-22_0008.4.0.dict\n",
      "./R=6_Weight=6:R/disjuncts-ILE-disjuncts/poc-turtle_10C_2018-04-22_0008.4.0.dict\n"
     ]
    }
   ],
   "source": [
    "verbose = 'none'\n",
    "print('Link Grammar rule files saved to\\n' + batch_dir[35:] + ':')\n",
    "for d in dirs:\n",
    "    #-print(d)\n",
    "    prj_dir = batch_dir + d[d.rfind('/')+1:] + '/' + subdir\n",
    "    #-print(prj_dir)\n",
    "    lg_rules = test_learn_grammar(d, prj_dir, left_wall, period, i+1, \\\n",
    "        word_space, dim_reduction, clustering, j+1, verbose)\n",
    "    print('.'+lg_rules.split('\\n')[-1][124:])"
   ]
  },
  {
   "cell_type": "markdown",
   "metadata": {},
   "source": [
    "# No LEFT-WALL, batch mode"
   ]
  },
  {
   "cell_type": "code",
   "execution_count": 12,
   "metadata": {},
   "outputs": [
    {
     "name": "stdout",
     "output_type": "stream",
     "text": [
      "Link Grammar rule files saved to\n",
      "/AGI-2018-paper-data-2018-04-22/POC-Turtle-no-LEFT-WALL/:\n",
      "\n",
      "./LG_ANY_all_parses/connectors-DRK-connectors/poc-turtle_5C_2018-04-22_0008.4.0.dict\n",
      "./LG_ANY_all_parses/connectors-DRK-disjuncts/poc-turtle_5C_2018-04-22_0008.4.0.dict\n",
      "./LG_ANY_all_parses/disjuncts-DRK-connectors/poc-turtle_8C_2018-04-22_0008.4.0.dict\n",
      "./LG_ANY_all_parses/disjuncts-DRK-disjuncts/poc-turtle_8C_2018-04-22_0008.4.0.dict\n",
      "./LG_ANY_all_parses/disjuncts-ILE-disjuncts/poc-turtle_9C_2018-04-22_0008.4.0.dict \n",
      "\n",
      "./MST_fixed_manually/connectors-DRK-connectors/poc-turtle_5C_2018-04-22_0008.4.0.dict\n",
      "./MST_fixed_manually/connectors-DRK-disjuncts/poc-turtle_5C_2018-04-22_0008.4.0.dict\n",
      "./MST_fixed_manually/disjuncts-DRK-connectors/poc-turtle_5C_2018-04-22_0008.4.0.dict\n",
      "./MST_fixed_manually/disjuncts-DRK-disjuncts/poc-turtle_5C_2018-04-22_0008.4.0.dict\n",
      "./MST_fixed_manually/disjuncts-ILE-disjuncts/poc-turtle_7C_2018-04-22_0008.4.0.dict \n",
      "\n",
      "./R=6_Weight=1/connectors-DRK-connectors/poc-turtle_8C_2018-04-22_0008.4.0.dict\n",
      "./R=6_Weight=1/connectors-DRK-disjuncts/poc-turtle_8C_2018-04-22_0008.4.0.dict\n",
      "Clusters: [11, 12, 12, 12, 12, 12, 12, 12, 12, 12, 12, 12] ⇒ 12\n",
      "./R=6_Weight=1/disjuncts-DRK-connectors/poc-turtle_12C_2018-04-22_0008.4.0.dict\n",
      "./R=6_Weight=1/disjuncts-DRK-disjuncts/poc-turtle_12C_2018-04-22_0008.4.0.dict\n",
      "./R=6_Weight=1/disjuncts-ILE-disjuncts/poc-turtle_12C_2018-04-22_0008.4.0.dict \n",
      "\n",
      "./R=6_Weight=6:R/connectors-DRK-connectors/poc-turtle_5C_2018-04-22_0008.4.0.dict\n",
      "./R=6_Weight=6:R/connectors-DRK-disjuncts/poc-turtle_5C_2018-04-22_0008.4.0.dict\n",
      "./R=6_Weight=6:R/disjuncts-DRK-connectors/poc-turtle_8C_2018-04-22_0008.4.0.dict\n",
      "./R=6_Weight=6:R/disjuncts-DRK-disjuncts/poc-turtle_8C_2018-04-22_0008.4.0.dict\n",
      "./R=6_Weight=6:R/disjuncts-ILE-disjuncts/poc-turtle_9C_2018-04-22_0008.4.0.dict \n",
      "\n"
     ]
    }
   ],
   "source": [
    "left_wall = ''\n",
    "period = True\n",
    "word_space = 'vectors'\n",
    "dim_reduction = 'svm'\n",
    "clustering = 'kmeans'\n",
    "verbose = 'none'\n",
    "batch_dir = out_dir + 'POC-Turtle-no-LEFT-WALL/'\n",
    "print('Link Grammar rule files saved to\\n' + batch_dir[35:] + ':\\n')\n",
    "for d in dirs:\n",
    "    for i,context in enumerate(['connectors', 'disjuncts']):\n",
    "        for j,rules in enumerate(['connectors', 'disjuncts']):\n",
    "            prj_dir = batch_dir + d[d.rfind('/')+1:] + '/'+context+'-DRK-'+rules+'/'\n",
    "            lg_rules = test_learn_grammar(d, prj_dir, left_wall, period, i+1, \\\n",
    "                word_space, dim_reduction, clustering, j+1, verbose)\n",
    "            print('.'+lg_rules.split('\\n')[-1][120:])\n",
    "    ile_dir = batch_dir + d[d.rfind('/')+1:] + '/'+'disjuncts-ILE-disjuncts/'\n",
    "    lg_rules = test_learn_grammar(d, ile_dir, left_wall, period, 2, \\\n",
    "        'discrete', 'none', 'group', 2, verbose)\n",
    "    print('.'+lg_rules.split('\\n')[-1][120:], '\\n')      "
   ]
  }
 ],
 "metadata": {
  "kernelspec": {
   "display_name": "Python [default]",
   "language": "python",
   "name": "python3"
  },
  "language_info": {
   "codemirror_mode": {
    "name": "ipython",
    "version": 3
   },
   "file_extension": ".py",
   "mimetype": "text/x-python",
   "name": "python",
   "nbconvert_exporter": "python",
   "pygments_lexer": "ipython3",
   "version": "3.6.4"
  },
  "toc": {
   "nav_menu": {},
   "number_sections": true,
   "sideBar": true,
   "skip_h1_title": false,
   "title_cell": "Table of Contents",
   "title_sidebar": "Contents",
   "toc_cell": false,
   "toc_position": {},
   "toc_section_display": true,
   "toc_window_display": false
  }
 },
 "nbformat": 4,
 "nbformat_minor": 2
}
